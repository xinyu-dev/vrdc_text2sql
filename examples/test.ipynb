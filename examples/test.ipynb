{
 "cells": [
  {
   "cell_type": "code",
   "execution_count": 45,
   "id": "213285df",
   "metadata": {},
   "outputs": [],
   "source": [
    "import json\n",
    "import sys, os\n",
    "sys.path.append(os.path.abspath(os.path.join('..', 'model_evaluation')))\n",
    "from utils import postprocess_sql_query_from_markdown\n"
   ]
  },
  {
   "cell_type": "code",
   "execution_count": 46,
   "id": "729e3b50",
   "metadata": {},
   "outputs": [
    {
     "name": "stdout",
     "output_type": "stream",
     "text": [
      "Number of records: 1792\n",
      "\n",
      "First record:\n",
      "{\n",
      "    \"input\": \"tell me the method of dextrose 5% in water (d5w) iv : 1000 ml bag intake?\",\n",
      "    \"output\": \"```sql\\nselect distinct medication.routeadmin from medication where medication.drugname = 'dextrose 5% in water (d5w) iv : 1000 ml bag'\\n```\\n<extra_id_1></s>\",\n",
      "    \"predict\": \"```sql\\nselect distinct treatment.treatmentname from treatment where treatment.treatmentname = 'dextrose 5% in water (d5w) iv : 1000 ml bag'\\n```\",\n",
      "    \"real_result\": \"[\\\"('iv',)\\\"]\",\n",
      "    \"pred_result\": \"[]\",\n",
      "    \"sample_scores\": {\n",
      "        \"precision_ans\": 1,\n",
      "        \"precision_exec\": 0,\n",
      "        \"recall_ans\": 1,\n",
      "        \"recall_exec\": 0,\n",
      "        \"accuracy\": 0\n",
      "    }\n",
      "}\n"
     ]
    }
   ],
   "source": [
    "fp = \"/home/ubuntu/workspace/vrdc_text2sql/model_evaluation/dataset/test/test.jsonl\"\n",
    "\n",
    "# For JSONL files, we need to read line by line\n",
    "data = []\n",
    "with open(fp, 'r') as f:\n",
    "    for line in f:\n",
    "        if line.strip():  # Skip empty lines\n",
    "            data.append(json.loads(line))\n",
    "\n",
    "# Count number of records\n",
    "print(f\"Number of records: {len(data)}\")\n",
    "\n",
    "# Display first record as example\n",
    "if data:\n",
    "    print(\"\\nFirst record:\")\n",
    "    print(json.dumps(data[0], indent=4))\n"
   ]
  },
  {
   "cell_type": "code",
   "execution_count": 47,
   "id": "e0cad036",
   "metadata": {},
   "outputs": [
    {
     "name": "stdout",
     "output_type": "stream",
     "text": [
      "Successfully added DDL to 1792 records\n",
      "\n",
      "DDL field length: 7272 characters\n",
      "\n",
      "First 200 characters of DDL:\n",
      "DROP TABLE IF EXISTS patient;\n",
      "CREATE TABLE patient    -- store patient demographics and admission information\n",
      "(\n",
      "    uniquepid VARCHAR(10) NOT NULL, -- Unique patient identifier across the system\n",
      "    p...\n",
      "\n",
      "Keys in first record: ['input', 'output', 'predict', 'ddl']\n"
     ]
    }
   ],
   "source": [
    "# original test set\n",
    "original = \"/home/ubuntu/workspace/vrdc_text2sql/model_evaluation/dataset/metadata/eicu_instruct.sql\"\n",
    "\n",
    "# Read the DDL file\n",
    "with open(original, 'r') as f:\n",
    "    ddl_content = f.read().strip()\n",
    "\n",
    "# Add DDL field to each record\n",
    "for record in data:\n",
    "    record['ddl'] = ddl_content\n",
    "    record['output'] = postprocess_sql_query_from_markdown(record['output'])\n",
    "    # remove real_result, pred_result, and sample_scores\n",
    "    record.pop('real_result', None)\n",
    "    record.pop('pred_result', None)\n",
    "    record.pop('sample_scores', None)\n",
    "\n",
    "# Verify it worked - show the first record with DDL field\n",
    "print(f\"Successfully added DDL to {len(data)} records\")\n",
    "print(f\"\\nDDL field length: {len(ddl_content)} characters\")\n",
    "print(f\"\\nFirst 200 characters of DDL:\")\n",
    "print(ddl_content[:200] + \"...\")\n",
    "\n",
    "# Show the keys of the first record to confirm DDL field is added\n",
    "if data:\n",
    "    print(f\"\\nKeys in first record: {list(data[0].keys())}\")\n",
    "\n"
   ]
  },
  {
   "cell_type": "code",
   "execution_count": 48,
   "id": "eb37a08b",
   "metadata": {},
   "outputs": [
    {
     "data": {
      "text/plain": [
       "{'input': 'tell me the method of dextrose 5% in water (d5w) iv : 1000 ml bag intake?',\n",
       " 'output': \"select distinct medication.routeadmin from medication where medication.drugname = 'dextrose 5% in water (d5w) iv : 1000 ml bag';\",\n",
       " 'predict': \"```sql\\nselect distinct treatment.treatmentname from treatment where treatment.treatmentname = 'dextrose 5% in water (d5w) iv : 1000 ml bag'\\n```\",\n",
       " 'ddl': 'DROP TABLE IF EXISTS patient;\\nCREATE TABLE patient    -- store patient demographics and admission information\\n(\\n    uniquepid VARCHAR(10) NOT NULL, -- Unique patient identifier across the system\\n    patienthealthsystemstayid INT NOT NULL, -- Unique ID for patient\\'s entire hospital stay\\n    patientunitstayid INT NOT NULL PRIMARY KEY, -- Unique ID for the patient\\'s ICU stay\\n    gender VARCHAR(25) NOT NULL, -- Gender of the patient (\"female\" or \"male\") (lowercase)\\n    age VARCHAR(10) NOT NULL, -- Age at admission (can be in years or an age category)\\n    ethnicity VARCHAR(50), -- Ethnicity of the patient (e.g: \"caucasian\", \"native american\", \"hispanic\", \"african american\", \"other/unknown\", \"asian\" or null) (lowercase)\\n    hospitalid INT NOT NULL, -- ID of the hospital\\n    wardid INT NOT NULL, -- ID of the hospital ward/unit\\n    admissionheight NUMERIC(10,2), -- Patient\\'s height on admission (in cm)\\n    admissionweight NUMERIC(10,2), -- Weight on admission (in kg)\\n    dischargeweight NUMERIC(10,2), -- Weight at discharge (in kg)\\n    hospitaladmittime TIMESTAMP(0) NOT NULL, -- Time patient was admitted to hospital\\n    hospitaladmitsource VARCHAR(30) NOT NULL, -- Source of hospital admission (e.g., \"operating room\", \"floor\", \"other hospital\", \"emergency department\", \"direct admit\", \"step-down unit (sdu)\", \"acute care/floor\", \"recovery room\", \"icu to sdu\", \"other icu\" or \"pacu\") (lowercase)\\n    unitadmittime TIMESTAMP(0) NOT NULL, -- Time of ICU admission\\n    unitdischargetime TIMESTAMP(0), -- Time of ICU discharge\\n    hospitaldischargetime TIMESTAMP(0), -- Time of hospital discharge\\n    hospitaldischargestatus VARCHAR(10) -- Discharge status (e.g., \"alive\", \"expired\" or null)\\n);\\n\\nDROP TABLE IF EXISTS diagnosis;\\nCREATE TABLE diagnosis  -- store diagnoses assigned during ICU stay\\n(\\n    diagnosisid INT NOT NULL PRIMARY KEY, -- Unique diagnosis record ID\\n    patientunitstayid INT NOT NULL, -- ICU stay ID (FK to patient)\\n    diagnosisname VARCHAR(200) NOT NULL, -- Full name of diagnosis (lowercase)\\n    diagnosistime TIMESTAMP(0) NOT NULL, -- Time diagnosis was recorded\\n    icd9code VARCHAR(100), -- ICD-9 code of the diagnosis\\n    FOREIGN KEY(patientunitstayid) REFERENCES patient(patientunitstayid)\\n);\\n\\nDROP TABLE IF EXISTS treatment;\\nCREATE TABLE treatment  -- store treatments administered during ICU stay\\n(\\n    treatmentid INT NOT NULL PRIMARY KEY, -- Unique treatment record ID\\n    patientunitstayid INT NOT NULL, -- ICU stay ID (FK to patient)\\n    treatmentname VARCHAR(200) NOT NULL, -- Name of the treatment administered (lowercase)\\n    treatmenttime TIMESTAMP(0) NOT NULL, -- Time the treatment was given\\n    FOREIGN KEY(patientunitstayid) REFERENCES patient(patientunitstayid)\\n);\\n\\nDROP TABLE IF EXISTS lab;\\nCREATE TABLE lab  -- store lab test results\\n(\\n    labid INT NOT NULL PRIMARY KEY, -- Unique lab test result ID\\n    patientunitstayid INT NOT NULL, -- ICU stay ID (FK to patient)\\n    labname VARCHAR(256) NOT NULL, -- Name of the lab test (lowercase)\\n    labresult NUMERIC(11,4) NOT NULL, -- Result value\\n    labresulttime TIMESTAMP(0) NOT NULL, -- Time when the lab result was recorded\\n    FOREIGN KEY(patientunitstayid) REFERENCES patient(patientunitstayid)\\n);\\n\\nDROP TABLE IF EXISTS medication;\\nCREATE TABLE medication  -- store medication administration records\\n(\\n    medicationid INT NOT NULL PRIMARY KEY, -- Unique medication record ID\\n    patientunitstayid INT NOT NULL, -- ICU stay ID (FK to patient)\\n    drugname VARCHAR(220) NOT NULL, -- Name of the medication (lowercase)\\n    dosage VARCHAR(60) NOT NULL, -- Dosage of the drug\\n    routeadmin VARCHAR(120) NOT NULL, -- Route of administration (e.g., \"iv\", \"po\", ...etc) (lowercase)\\n    drugstarttime TIMESTAMP(0), -- Time drug administration started\\n    drugstoptime TIMESTAMP(0), -- Time drug administration stopped\\n    FOREIGN KEY(patientunitstayid) REFERENCES patient(patientunitstayid)\\n);\\n\\nDROP TABLE IF EXISTS cost;\\nCREATE TABLE cost  -- store cost-related data for services provided\\n(\\n    costid INT NOT NULL PRIMARY KEY, -- Unique cost record ID\\n    uniquepid VARCHAR(10) NOT NULL, -- Unique patient ID (can appear in multiple ICU stays)\\n    patienthealthsystemstayid INT NOT NULL, -- Hospital stay ID (FK to patient)\\n    eventtype VARCHAR(20) NOT NULL, -- Type of billable event (e.g., \"diagnosis\", \"lab\", \"treatment\" or \"medication\") (lowercase)\\n    eventid INT NOT NULL, -- Associated event ID (maps to treatment, lab, etc.)\\n    chargetime TIMESTAMP(0) NOT NULL, -- Time the cost was charged\\n    cost DOUBLE PRECISION NOT NULL, -- Cost value\\n    FOREIGN KEY(patienthealthsystemstayid) REFERENCES patient(patienthealthsystemstayid)\\n);\\n\\nDROP TABLE IF EXISTS allergy;\\nCREATE TABLE allergy  -- store drug-related allergy information\\n(\\n    allergyid INT NOT NULL PRIMARY KEY, -- Unique allergy record ID\\n    patientunitstayid INT NOT NULL, -- ICU stay ID (FK to patient)\\n    drugname VARCHAR(255), -- Drug name associated with allergy (if any) (lowercase)\\n    allergyname VARCHAR(255) NOT NULL, -- Description of the allergy (lowercase)\\n    allergytime TIMESTAMP(0) NOT NULL, -- Time allergy was recorded\\n    FOREIGN KEY(patientunitstayid) REFERENCES patient(patientunitstayid)\\n);\\n\\nDROP TABLE IF EXISTS intakeoutput;\\nCREATE TABLE intakeoutput  -- store intake/output measurements (fluids, urine, etc.)\\n(\\n    intakeoutputid INT NOT NULL PRIMARY KEY, -- Unique intake/output record ID\\n    patientunitstayid INT NOT NULL, -- ICU stay ID (FK to patient)\\n    cellpath VARCHAR(500) NOT NULL, -- Hierarchical label/path (lowercase)   \\n    celllabel VARCHAR(255) NOT NULL, -- Label describing the intake/output (lowercase)\\n    cellvaluenumeric NUMERIC(12,4) NOT NULL, -- Volume or quantity recorded\\n    intakeoutputtime TIMESTAMP(0) NOT NULL, -- Time of measurement\\n    FOREIGN KEY(patientunitstayid) REFERENCES patient(patientunitstayid)\\n);\\n\\nDROP TABLE IF EXISTS microlab;\\nCREATE TABLE microlab  -- store microbiology lab culture results\\n(\\n    microlabid INT NOT NULL PRIMARY KEY, -- Unique microbiology lab result ID\\n    patientunitstayid INT NOT NULL, -- ICU stay ID (FK to patient)\\n    culturesite VARCHAR(255) NOT NULL, -- Site of culture collection (e.g., \"blood\", \"urine\") (lowercase)\\n    organism VARCHAR(255) NOT NULL, -- Identified organism (e.g., \"escherichia coli\", \"mixed flora\", \"pseudomonas aeruginosa\", ...etc) (lowercase)\\n    culturetakentime TIMESTAMP(0) NOT NULL, -- Time culture was taken\\n    FOREIGN KEY(patientunitstayid) REFERENCES patient(patientunitstayid)\\n);\\n\\nDROP TABLE IF EXISTS vitalperiodic;\\nCREATE TABLE vitalperiodic  -- store periodic vital signs measured during ICU stay\\n(\\n    vitalperiodicid BIGINT NOT NULL PRIMARY KEY, -- Unique ID for vital sign entry\\n    patientunitstayid INT NOT NULL, -- ICU stay ID (FK to patient)\\n    temperature NUMERIC(11,4), -- Body temperature (Celsius)\\n    sao2 INT, -- Oxygen saturation (%)\\n    heartrate INT, -- Heart rate (bpm)\\n    respiration INT, -- Respiratory rate (breaths per minute)\\n    systemicsystolic INT, -- Systolic blood pressure (mmHg)\\n    systemicdiastolic INT, -- Diastolic blood pressure (mmHg)\\n    systemicmean INT, -- Mean arterial pressure (mmHg)\\n    observationtime TIMESTAMP(0) NOT NULL, -- Time of observation\\n    FOREIGN KEY(patientunitstayid) REFERENCES patient(patientunitstayid)\\n);'}"
      ]
     },
     "execution_count": 48,
     "metadata": {},
     "output_type": "execute_result"
    }
   ],
   "source": [
    "data[0]"
   ]
  },
  {
   "cell_type": "code",
   "execution_count": 49,
   "id": "49ac6e4d",
   "metadata": {},
   "outputs": [
    {
     "data": {
      "text/plain": [
       "1792"
      ]
     },
     "execution_count": 49,
     "metadata": {},
     "output_type": "execute_result"
    }
   ],
   "source": [
    "len(data)"
   ]
  },
  {
   "cell_type": "code",
   "execution_count": 50,
   "id": "6b2f563f",
   "metadata": {},
   "outputs": [],
   "source": [
    "# dump this data into test folder \n",
    "\n",
    "output_dir = \"/home/ubuntu/workspace/vrdc_text2sql/model_evaluation/dataset/test\"\n",
    "\n",
    "json.dump(data, open(os.path.join(output_dir, \"test_ehrsql_eicu_data_with_ddl_comments.json\"), \"w\"))"
   ]
  },
  {
   "cell_type": "code",
   "execution_count": null,
   "id": "97e83e1e",
   "metadata": {},
   "outputs": [],
   "source": []
  }
 ],
 "metadata": {
  "kernelspec": {
   "display_name": ".venv",
   "language": "python",
   "name": "python3"
  },
  "language_info": {
   "codemirror_mode": {
    "name": "ipython",
    "version": 3
   },
   "file_extension": ".py",
   "mimetype": "text/x-python",
   "name": "python",
   "nbconvert_exporter": "python",
   "pygments_lexer": "ipython3",
   "version": "3.12.11"
  }
 },
 "nbformat": 4,
 "nbformat_minor": 5
}
