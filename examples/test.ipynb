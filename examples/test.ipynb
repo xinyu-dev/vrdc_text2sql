{
 "cells": [
  {
   "cell_type": "code",
   "execution_count": 1,
   "id": "213285df",
   "metadata": {},
   "outputs": [],
   "source": [
    "import json\n",
    "import sys, os\n",
    "sys.path.append(os.path.abspath(os.path.join('..', 'model_evaluation')))\n",
    "from utils import postprocess_sql_query_from_markdown\n"
   ]
  },
  {
   "cell_type": "markdown",
   "id": "bf64ec0e",
   "metadata": {},
   "source": [
    "# Curating the test_ehrsql_eicu_data_benchmark dataset"
   ]
  },
  {
   "cell_type": "code",
   "execution_count": 2,
   "id": "729e3b50",
   "metadata": {},
   "outputs": [
    {
     "name": "stdout",
     "output_type": "stream",
     "text": [
      "Number of records: 1792\n",
      "\n",
      "First record:\n",
      "{\n",
      "    \"input\": \"<extra_id_0>System\\nBased on DDL statements, instructions, and the current date, generate a SQL query in the following sqlite to answer the question.\\n If the question cannot be answered using the available tables and columns in the DDL (i.e., it is out of scope), return only: None.\\nToday is 2105-12-31 23:59:00\\nDDL statements:\\nDROP TABLE IF EXISTS patient;\\nCREATE TABLE patient    -- store patient demographics and admission information\\n(\\n    uniquepid VARCHAR(10) NOT NULL, -- Unique patient identifier across the system\\n    patienthealthsystemstayid INT NOT NULL, -- unique identifier for a single ICU stay of a patient.\\n    patientunitstayid INT NOT NULL PRIMARY KEY, -- Unique ID for the patient's ICU stay\\n    gender VARCHAR(25) NOT NULL, -- Gender of the patient (\\\"female\\\" or \\\"male\\\") (lowercase)\\n    age VARCHAR(10) NOT NULL, -- Age at admission (can be in years or an age category)\\n    ethnicity VARCHAR(50), -- Ethnicity of the patient (e.g: \\\"caucasian\\\", \\\"native american\\\", \\\"hispanic\\\", \\\"african american\\\", \\\"other/unknown\\\", \\\"asian\\\" or null) (lowercase)\\n    hospitalid INT NOT NULL, -- ID of the hospital\\n    wardid INT NOT NULL, -- ID of the hospital ward/unit\\n    admissionheight NUMERIC(10,2), -- Patient's height on admission (in cm)\\n    admissionweight NUMERIC(10,2), -- Weight on admission (in kg)\\n    dischargeweight NUMERIC(10,2), -- Weight at discharge (in kg)\\n    hospitaladmittime TIMESTAMP(0) NOT NULL, -- Time patient was admitted to hospital\\n    hospitaladmitsource VARCHAR(30) NOT NULL, -- Source of hospital admission (e.g., \\\"operating room\\\", \\\"floor\\\", \\\"other hospital\\\", \\\"emergency department\\\", \\\"direct admit\\\", \\\"step-down unit (sdu)\\\", \\\"acute care/floor\\\", \\\"recovery room\\\", \\\"icu to sdu\\\", \\\"other icu\\\" or \\\"pacu\\\") (lowercase)\\n    unitadmittime TIMESTAMP(0) NOT NULL, -- Time of ICU admission\\n    unitdischargetime TIMESTAMP(0), -- time of discharge from the ICU unit\\n    hospitaldischargetime TIMESTAMP(0), -- Time of hospital discharge\\n    hospitaldischargestatus VARCHAR(10) -- Discharge status (e.g., \\\"alive\\\", \\\"expired\\\" or null)\\n);\\n\\nDROP TABLE IF EXISTS diagnosis;\\nCREATE TABLE diagnosis  -- store diagnoses assigned during ICU stay\\n(\\n    diagnosisid INT NOT NULL PRIMARY KEY, -- Unique diagnosis record ID\\n    patientunitstayid INT NOT NULL, -- ICU stay ID (FK to patient)\\n    diagnosisname VARCHAR(200) NOT NULL, -- Full name of diagnosis (lowercase)\\n    diagnosistime TIMESTAMP(0) NOT NULL, -- Time diagnosis was recorded\\n    icd9code VARCHAR(100), -- ICD-9 code of the diagnosis\\n    FOREIGN KEY(patientunitstayid) REFERENCES patient(patientunitstayid)\\n);\\n\\nDROP TABLE IF EXISTS treatment;\\nCREATE TABLE treatment  -- store treatments administered during ICU stay\\n(\\n    treatmentid INT NOT NULL PRIMARY KEY, -- Unique treatment record ID\\n    patientunitstayid INT NOT NULL, -- ICU stay ID (FK to patient)\\n    treatmentname VARCHAR(200) NOT NULL, -- Name of the treatment administered (lowercase)\\n    treatmenttime TIMESTAMP(0) NOT NULL, -- Time the treatment was given\\n    FOREIGN KEY(patientunitstayid) REFERENCES patient(patientunitstayid)\\n);\\n\\nDROP TABLE IF EXISTS lab;\\nCREATE TABLE lab  -- store lab test results\\n(\\n    labid INT NOT NULL PRIMARY KEY, -- Unique lab test result ID\\n    patientunitstayid INT NOT NULL, -- ICU stay ID (FK to patient)\\n    labname VARCHAR(256) NOT NULL, -- Name of the lab test (lowercase)\\n    labresult NUMERIC(11,4) NOT NULL, -- Result value\\n    labresulttime TIMESTAMP(0) NOT NULL, -- Time when the lab result was recorded\\n    FOREIGN KEY(patientunitstayid) REFERENCES patient(patientunitstayid)\\n);\\n\\nDROP TABLE IF EXISTS medication;\\nCREATE TABLE medication  -- store medication administration records\\n(\\n    medicationid INT NOT NULL PRIMARY KEY, -- Unique medication record ID\\n    patientunitstayid INT NOT NULL, -- ICU stay ID (FK to patient)\\n    drugname VARCHAR(220) NOT NULL, -- Name of the medication (lowercase)\\n    dosage VARCHAR(60) NOT NULL, -- Dosage of the drug\\n    routeadmin VARCHAR(120) NOT NULL, -- Route of administration (e.g., \\\"iv\\\", \\\"po\\\", ...etc) (lowercase)\\n    drugstarttime TIMESTAMP(0), -- Time drug administration started\\n    drugstoptime TIMESTAMP(0), -- Time drug administration stopped\\n    FOREIGN KEY(patientunitstayid) REFERENCES patient(patientunitstayid)\\n);\\n\\nDROP TABLE IF EXISTS cost;\\nCREATE TABLE cost  -- store cost-related data for services provided\\n(\\n    costid INT NOT NULL PRIMARY KEY, -- Unique cost record ID\\n    uniquepid VARCHAR(10) NOT NULL, -- Unique patient ID (can appear in multiple ICU stays)\\n    patienthealthsystemstayid INT NOT NULL, -- Hospital stay ID (FK to patient)\\n    eventtype VARCHAR(20) NOT NULL, -- Type of billable event (e.g., \\\"diagnosis\\\", \\\"lab\\\", \\\"treatment\\\" or \\\"medication\\\") (lowercase)\\n    eventid INT NOT NULL, -- Associated event ID (maps to treatment, lab, etc.)\\n    chargetime TIMESTAMP(0) NOT NULL, -- Time the cost was charged\\n    cost DOUBLE PRECISION NOT NULL, -- Cost value\\n    FOREIGN KEY(patienthealthsystemstayid) REFERENCES patient(patienthealthsystemstayid)\\n);\\n\\nDROP TABLE IF EXISTS allergy;\\nCREATE TABLE allergy  -- store drug-related allergy information\\n(\\n    allergyid INT NOT NULL PRIMARY KEY, -- Unique allergy record ID\\n    patientunitstayid INT NOT NULL, -- ICU stay ID (FK to patient)\\n    drugname VARCHAR(255), -- Drug name associated with allergy (if any) (lowercase)\\n    allergyname VARCHAR(255) NOT NULL, -- Description of the allergy (lowercase)\\n    allergytime TIMESTAMP(0) NOT NULL, -- Time allergy was recorded\\n    FOREIGN KEY(patientunitstayid) REFERENCES patient(patientunitstayid)\\n);\\n\\nDROP TABLE IF EXISTS intakeoutput;\\nCREATE TABLE intakeoutput  -- store intake/output measurements (fluids, urine, etc.)\\n(\\n    intakeoutputid INT NOT NULL PRIMARY KEY, -- Unique intake/output record ID\\n    patientunitstayid INT NOT NULL, -- ICU stay ID (FK to patient)\\n    cellpath VARCHAR(500) NOT NULL, -- Hierarchical label/path (lowercase)   \\n    celllabel VARCHAR(255) NOT NULL, -- Label describing the intake/output (lowercase)\\n    cellvaluenumeric NUMERIC(12,4) NOT NULL, -- Volume or quantity recorded\\n    intakeoutputtime TIMESTAMP(0) NOT NULL, -- Time of measurement\\n    FOREIGN KEY(patientunitstayid) REFERENCES patient(patientunitstayid)\\n);\\n\\nDROP TABLE IF EXISTS microlab;\\nCREATE TABLE microlab  -- store microbiology lab culture results\\n(\\n    microlabid INT NOT NULL PRIMARY KEY, -- Unique microbiology lab result ID\\n    patientunitstayid INT NOT NULL, -- ICU stay ID (FK to patient)\\n    culturesite VARCHAR(255) NOT NULL, -- Site of culture collection (e.g., \\\"blood\\\", \\\"urine\\\") (lowercase)\\n    organism VARCHAR(255) NOT NULL, -- Identified organism (e.g., \\\"escherichia coli\\\", \\\"mixed flora\\\", \\\"pseudomonas aeruginosa\\\", ...etc) (lowercase)\\n    culturetakentime TIMESTAMP(0) NOT NULL, -- Time culture was taken\\n    FOREIGN KEY(patientunitstayid) REFERENCES patient(patientunitstayid)\\n);\\n\\nDROP TABLE IF EXISTS vitalperiodic;\\nCREATE TABLE vitalperiodic  -- store periodic vital signs measured during ICU stay\\n(\\n    vitalperiodicid BIGINT NOT NULL PRIMARY KEY, -- Unique ID for vital sign entry\\n    patientunitstayid INT NOT NULL, -- ICU stay ID (FK to patient)\\n    temperature NUMERIC(11,4), -- Body temperature (Celsius), the normal range is 35.5-38.1\\n    sao2 INT, -- Oxygen saturation (%), the normal range is 95.0-100.0\\n    heartrate INT, -- Heart rate (bpm), the normal range is 60.0-100.0\\n    respiration INT, -- Respiratory rate (breaths per minute), the normal range is 12.0-18.0\\n    systemicsystolic INT, -- Systolic blood pressure (mmHg), the normal range is 90.0-120.0\\n    systemicdiastolic INT, -- Diastolic blood pressure (mmHg), the normal range is 60.0-90.0\\n    systemicmean INT, -- Mean arterial pressure (mmHg), the normal range is 60.0-110.0\\n    observationtime TIMESTAMP(0) NOT NULL, -- Time of observation\\n    FOREIGN KEY(patientunitstayid) REFERENCES patient(patientunitstayid)\\n);\\nInstructions:\\n- Respond only with the SQL query in markdown format. If unsure, reply with \\\"None\\\".\\n<extra_id_1>User\\ntell me the method of dextrose 5% in water (d5w) iv : 1000 ml bag intake?\\n<extra_id_1>Assistant\\n\",\n",
      "    \"output\": \"```sql\\nselect distinct medication.routeadmin from medication where medication.drugname = 'dextrose 5% in water (d5w) iv : 1000 ml bag'\\n```\\n<extra_id_1></s>\",\n",
      "    \"predict\": \"```sql\\nselect distinct treatment.treatmentname from treatment where treatment.treatmentname = 'dextrose 5% in water (d5w) iv : 1000 ml bag'\\n```\"\n",
      "}\n"
     ]
    }
   ],
   "source": [
    "data = []\n",
    "\n",
    "fp = \"/home/ubuntu/workspace/vrdc_text2sql/model_evaluation/dataset/test/test_mistral-nemo-minitron-8b-instruct-dv8-pv2-24x4-ehrsql-eicu_result.jsonl\"\n",
    "\n",
    "# This is a regular JSON file (not JSONL), so we read it directly\n",
    "with open(fp, 'r') as f:\n",
    "    for line in f:\n",
    "        if line.strip():  # Skip empty lines\n",
    "            data.append(json.loads(line))\n",
    "\n",
    "# Count number of records\n",
    "print(f\"Number of records: {len(data)}\")\n",
    "\n",
    "# Display first record as example\n",
    "if data:\n",
    "    print(\"\\nFirst record:\")\n",
    "    print(json.dumps(data[0], indent=4))\n"
   ]
  },
  {
   "cell_type": "code",
   "execution_count": 3,
   "id": "76793850",
   "metadata": {},
   "outputs": [],
   "source": [
    "import re\n",
    "\n",
    "def extract_system_message(input_text):\n",
    "    \"\"\"\n",
    "    Extract the system message from the input text.\n",
    "    \n",
    "    Args:\n",
    "        input_text (str): The input text containing system and user messages\n",
    "        \n",
    "    Returns:\n",
    "        str: The system message\n",
    "    \"\"\"\n",
    "    # Pattern to match system message between <extra_id_0>System\\n and <extra_id_1>User\\n\n",
    "    pattern = r'<extra_id_0>System\\n(.*?)<extra_id_1>User\\n'\n",
    "    \n",
    "    match = re.search(pattern, input_text, re.DOTALL)\n",
    "    \n",
    "    if match:\n",
    "        return match.group(1).strip()\n",
    "    else:\n",
    "        return \"\""
   ]
  },
  {
   "cell_type": "code",
   "execution_count": 4,
   "id": "fe0fc412",
   "metadata": {},
   "outputs": [],
   "source": [
    "def extract_user_message(input_text):\n",
    "    \"\"\"\n",
    "    Extract the user message from the input text.\n",
    "    \n",
    "    Args:\n",
    "        input_text (str): The input text containing system and user messages\n",
    "        \n",
    "    Returns:\n",
    "        str: The user message\n",
    "    \"\"\"\n",
    "    # Pattern to match user message between <extra_id_1>User\\n and <extra_id_1>Assistant\\n\n",
    "    pattern = r'<extra_id_1>User\\n(.*?)<extra_id_1>Assistant\\n'\n",
    "    \n",
    "    match = re.search(pattern, input_text, re.DOTALL)\n",
    "    \n",
    "    if match:\n",
    "        return match.group(1).strip()\n",
    "    else:\n",
    "        return \"\"\n"
   ]
  },
  {
   "cell_type": "code",
   "execution_count": 5,
   "id": "212c76ae",
   "metadata": {},
   "outputs": [],
   "source": [
    "def extract_messages(input_text):\n",
    "    \"\"\"\n",
    "    Extract both system and user messages from the input text.\n",
    "    \n",
    "    Args:\n",
    "        input_text (str): The input text containing system and user messages\n",
    "        \n",
    "    Returns:\n",
    "        dict: Dictionary with 'system' and 'user' keys containing the respective messages\n",
    "    \"\"\"\n",
    "    return {\n",
    "        'system': extract_system_message(input_text),\n",
    "        'user': extract_user_message(input_text)\n",
    "    }\n"
   ]
  },
  {
   "cell_type": "code",
   "execution_count": 6,
   "id": "e0cad036",
   "metadata": {},
   "outputs": [],
   "source": [
    "data_cleaned = []\n",
    "# Add DDL field to each record\n",
    "for i, record in enumerate(data):\n",
    "    index = i+1\n",
    "\n",
    "    input = record['input']\n",
    "    messages = extract_messages(input)\n",
    "    system = messages['system']\n",
    "    user = messages['user']\n",
    "    output = postprocess_sql_query_from_markdown(record['output']) # ground truth\n",
    "\n",
    "    data_cleaned.append({\n",
    "        'index': index,\n",
    "        'system': system,\n",
    "        'user': user,\n",
    "        'real': output\n",
    "    })\n"
   ]
  },
  {
   "cell_type": "code",
   "execution_count": 7,
   "id": "8511f40f",
   "metadata": {},
   "outputs": [
    {
     "name": "stdout",
     "output_type": "stream",
     "text": [
      "{\n",
      "    \"index\": 1,\n",
      "    \"system\": \"Based on DDL statements, instructions, and the current date, generate a SQL query in the following sqlite to answer the question.\\n If the question cannot be answered using the available tables and columns in the DDL (i.e., it is out of scope), return only: None.\\nToday is 2105-12-31 23:59:00\\nDDL statements:\\nDROP TABLE IF EXISTS patient;\\nCREATE TABLE patient    -- store patient demographics and admission information\\n(\\n    uniquepid VARCHAR(10) NOT NULL, -- Unique patient identifier across the system\\n    patienthealthsystemstayid INT NOT NULL, -- unique identifier for a single ICU stay of a patient.\\n    patientunitstayid INT NOT NULL PRIMARY KEY, -- Unique ID for the patient's ICU stay\\n    gender VARCHAR(25) NOT NULL, -- Gender of the patient (\\\"female\\\" or \\\"male\\\") (lowercase)\\n    age VARCHAR(10) NOT NULL, -- Age at admission (can be in years or an age category)\\n    ethnicity VARCHAR(50), -- Ethnicity of the patient (e.g: \\\"caucasian\\\", \\\"native american\\\", \\\"hispanic\\\", \\\"african american\\\", \\\"other/unknown\\\", \\\"asian\\\" or null) (lowercase)\\n    hospitalid INT NOT NULL, -- ID of the hospital\\n    wardid INT NOT NULL, -- ID of the hospital ward/unit\\n    admissionheight NUMERIC(10,2), -- Patient's height on admission (in cm)\\n    admissionweight NUMERIC(10,2), -- Weight on admission (in kg)\\n    dischargeweight NUMERIC(10,2), -- Weight at discharge (in kg)\\n    hospitaladmittime TIMESTAMP(0) NOT NULL, -- Time patient was admitted to hospital\\n    hospitaladmitsource VARCHAR(30) NOT NULL, -- Source of hospital admission (e.g., \\\"operating room\\\", \\\"floor\\\", \\\"other hospital\\\", \\\"emergency department\\\", \\\"direct admit\\\", \\\"step-down unit (sdu)\\\", \\\"acute care/floor\\\", \\\"recovery room\\\", \\\"icu to sdu\\\", \\\"other icu\\\" or \\\"pacu\\\") (lowercase)\\n    unitadmittime TIMESTAMP(0) NOT NULL, -- Time of ICU admission\\n    unitdischargetime TIMESTAMP(0), -- time of discharge from the ICU unit\\n    hospitaldischargetime TIMESTAMP(0), -- Time of hospital discharge\\n    hospitaldischargestatus VARCHAR(10) -- Discharge status (e.g., \\\"alive\\\", \\\"expired\\\" or null)\\n);\\n\\nDROP TABLE IF EXISTS diagnosis;\\nCREATE TABLE diagnosis  -- store diagnoses assigned during ICU stay\\n(\\n    diagnosisid INT NOT NULL PRIMARY KEY, -- Unique diagnosis record ID\\n    patientunitstayid INT NOT NULL, -- ICU stay ID (FK to patient)\\n    diagnosisname VARCHAR(200) NOT NULL, -- Full name of diagnosis (lowercase)\\n    diagnosistime TIMESTAMP(0) NOT NULL, -- Time diagnosis was recorded\\n    icd9code VARCHAR(100), -- ICD-9 code of the diagnosis\\n    FOREIGN KEY(patientunitstayid) REFERENCES patient(patientunitstayid)\\n);\\n\\nDROP TABLE IF EXISTS treatment;\\nCREATE TABLE treatment  -- store treatments administered during ICU stay\\n(\\n    treatmentid INT NOT NULL PRIMARY KEY, -- Unique treatment record ID\\n    patientunitstayid INT NOT NULL, -- ICU stay ID (FK to patient)\\n    treatmentname VARCHAR(200) NOT NULL, -- Name of the treatment administered (lowercase)\\n    treatmenttime TIMESTAMP(0) NOT NULL, -- Time the treatment was given\\n    FOREIGN KEY(patientunitstayid) REFERENCES patient(patientunitstayid)\\n);\\n\\nDROP TABLE IF EXISTS lab;\\nCREATE TABLE lab  -- store lab test results\\n(\\n    labid INT NOT NULL PRIMARY KEY, -- Unique lab test result ID\\n    patientunitstayid INT NOT NULL, -- ICU stay ID (FK to patient)\\n    labname VARCHAR(256) NOT NULL, -- Name of the lab test (lowercase)\\n    labresult NUMERIC(11,4) NOT NULL, -- Result value\\n    labresulttime TIMESTAMP(0) NOT NULL, -- Time when the lab result was recorded\\n    FOREIGN KEY(patientunitstayid) REFERENCES patient(patientunitstayid)\\n);\\n\\nDROP TABLE IF EXISTS medication;\\nCREATE TABLE medication  -- store medication administration records\\n(\\n    medicationid INT NOT NULL PRIMARY KEY, -- Unique medication record ID\\n    patientunitstayid INT NOT NULL, -- ICU stay ID (FK to patient)\\n    drugname VARCHAR(220) NOT NULL, -- Name of the medication (lowercase)\\n    dosage VARCHAR(60) NOT NULL, -- Dosage of the drug\\n    routeadmin VARCHAR(120) NOT NULL, -- Route of administration (e.g., \\\"iv\\\", \\\"po\\\", ...etc) (lowercase)\\n    drugstarttime TIMESTAMP(0), -- Time drug administration started\\n    drugstoptime TIMESTAMP(0), -- Time drug administration stopped\\n    FOREIGN KEY(patientunitstayid) REFERENCES patient(patientunitstayid)\\n);\\n\\nDROP TABLE IF EXISTS cost;\\nCREATE TABLE cost  -- store cost-related data for services provided\\n(\\n    costid INT NOT NULL PRIMARY KEY, -- Unique cost record ID\\n    uniquepid VARCHAR(10) NOT NULL, -- Unique patient ID (can appear in multiple ICU stays)\\n    patienthealthsystemstayid INT NOT NULL, -- Hospital stay ID (FK to patient)\\n    eventtype VARCHAR(20) NOT NULL, -- Type of billable event (e.g., \\\"diagnosis\\\", \\\"lab\\\", \\\"treatment\\\" or \\\"medication\\\") (lowercase)\\n    eventid INT NOT NULL, -- Associated event ID (maps to treatment, lab, etc.)\\n    chargetime TIMESTAMP(0) NOT NULL, -- Time the cost was charged\\n    cost DOUBLE PRECISION NOT NULL, -- Cost value\\n    FOREIGN KEY(patienthealthsystemstayid) REFERENCES patient(patienthealthsystemstayid)\\n);\\n\\nDROP TABLE IF EXISTS allergy;\\nCREATE TABLE allergy  -- store drug-related allergy information\\n(\\n    allergyid INT NOT NULL PRIMARY KEY, -- Unique allergy record ID\\n    patientunitstayid INT NOT NULL, -- ICU stay ID (FK to patient)\\n    drugname VARCHAR(255), -- Drug name associated with allergy (if any) (lowercase)\\n    allergyname VARCHAR(255) NOT NULL, -- Description of the allergy (lowercase)\\n    allergytime TIMESTAMP(0) NOT NULL, -- Time allergy was recorded\\n    FOREIGN KEY(patientunitstayid) REFERENCES patient(patientunitstayid)\\n);\\n\\nDROP TABLE IF EXISTS intakeoutput;\\nCREATE TABLE intakeoutput  -- store intake/output measurements (fluids, urine, etc.)\\n(\\n    intakeoutputid INT NOT NULL PRIMARY KEY, -- Unique intake/output record ID\\n    patientunitstayid INT NOT NULL, -- ICU stay ID (FK to patient)\\n    cellpath VARCHAR(500) NOT NULL, -- Hierarchical label/path (lowercase)   \\n    celllabel VARCHAR(255) NOT NULL, -- Label describing the intake/output (lowercase)\\n    cellvaluenumeric NUMERIC(12,4) NOT NULL, -- Volume or quantity recorded\\n    intakeoutputtime TIMESTAMP(0) NOT NULL, -- Time of measurement\\n    FOREIGN KEY(patientunitstayid) REFERENCES patient(patientunitstayid)\\n);\\n\\nDROP TABLE IF EXISTS microlab;\\nCREATE TABLE microlab  -- store microbiology lab culture results\\n(\\n    microlabid INT NOT NULL PRIMARY KEY, -- Unique microbiology lab result ID\\n    patientunitstayid INT NOT NULL, -- ICU stay ID (FK to patient)\\n    culturesite VARCHAR(255) NOT NULL, -- Site of culture collection (e.g., \\\"blood\\\", \\\"urine\\\") (lowercase)\\n    organism VARCHAR(255) NOT NULL, -- Identified organism (e.g., \\\"escherichia coli\\\", \\\"mixed flora\\\", \\\"pseudomonas aeruginosa\\\", ...etc) (lowercase)\\n    culturetakentime TIMESTAMP(0) NOT NULL, -- Time culture was taken\\n    FOREIGN KEY(patientunitstayid) REFERENCES patient(patientunitstayid)\\n);\\n\\nDROP TABLE IF EXISTS vitalperiodic;\\nCREATE TABLE vitalperiodic  -- store periodic vital signs measured during ICU stay\\n(\\n    vitalperiodicid BIGINT NOT NULL PRIMARY KEY, -- Unique ID for vital sign entry\\n    patientunitstayid INT NOT NULL, -- ICU stay ID (FK to patient)\\n    temperature NUMERIC(11,4), -- Body temperature (Celsius), the normal range is 35.5-38.1\\n    sao2 INT, -- Oxygen saturation (%), the normal range is 95.0-100.0\\n    heartrate INT, -- Heart rate (bpm), the normal range is 60.0-100.0\\n    respiration INT, -- Respiratory rate (breaths per minute), the normal range is 12.0-18.0\\n    systemicsystolic INT, -- Systolic blood pressure (mmHg), the normal range is 90.0-120.0\\n    systemicdiastolic INT, -- Diastolic blood pressure (mmHg), the normal range is 60.0-90.0\\n    systemicmean INT, -- Mean arterial pressure (mmHg), the normal range is 60.0-110.0\\n    observationtime TIMESTAMP(0) NOT NULL, -- Time of observation\\n    FOREIGN KEY(patientunitstayid) REFERENCES patient(patientunitstayid)\\n);\\nInstructions:\\n- Respond only with the SQL query in markdown format. If unsure, reply with \\\"None\\\".\",\n",
      "    \"user\": \"tell me the method of dextrose 5% in water (d5w) iv : 1000 ml bag intake?\",\n",
      "    \"real\": \"select distinct medication.routeadmin from medication where medication.drugname = 'dextrose 5% in water (d5w) iv : 1000 ml bag';\"\n",
      "}\n"
     ]
    }
   ],
   "source": [
    "print(json.dumps(data_cleaned[0], indent=4))"
   ]
  },
  {
   "cell_type": "code",
   "execution_count": 8,
   "id": "d3e8d22c",
   "metadata": {},
   "outputs": [
    {
     "name": "stdout",
     "output_type": "stream",
     "text": [
      "{\n",
      "    \"index\": 2,\n",
      "    \"system\": \"Based on DDL statements, instructions, and the current date, generate a SQL query in the following sqlite to answer the question.\\n If the question cannot be answered using the available tables and columns in the DDL (i.e., it is out of scope), return only: None.\\nToday is 2105-12-31 23:59:00\\nDDL statements:\\nDROP TABLE IF EXISTS patient;\\nCREATE TABLE patient    -- store patient demographics and admission information\\n(\\n    uniquepid VARCHAR(10) NOT NULL, -- Unique patient identifier across the system\\n    patienthealthsystemstayid INT NOT NULL, -- unique identifier for a single ICU stay of a patient.\\n    patientunitstayid INT NOT NULL PRIMARY KEY, -- Unique ID for the patient's ICU stay\\n    gender VARCHAR(25) NOT NULL, -- Gender of the patient (\\\"female\\\" or \\\"male\\\") (lowercase)\\n    age VARCHAR(10) NOT NULL, -- Age at admission (can be in years or an age category)\\n    ethnicity VARCHAR(50), -- Ethnicity of the patient (e.g: \\\"caucasian\\\", \\\"native american\\\", \\\"hispanic\\\", \\\"african american\\\", \\\"other/unknown\\\", \\\"asian\\\" or null) (lowercase)\\n    hospitalid INT NOT NULL, -- ID of the hospital\\n    wardid INT NOT NULL, -- ID of the hospital ward/unit\\n    admissionheight NUMERIC(10,2), -- Patient's height on admission (in cm)\\n    admissionweight NUMERIC(10,2), -- Weight on admission (in kg)\\n    dischargeweight NUMERIC(10,2), -- Weight at discharge (in kg)\\n    hospitaladmittime TIMESTAMP(0) NOT NULL, -- Time patient was admitted to hospital\\n    hospitaladmitsource VARCHAR(30) NOT NULL, -- Source of hospital admission (e.g., \\\"operating room\\\", \\\"floor\\\", \\\"other hospital\\\", \\\"emergency department\\\", \\\"direct admit\\\", \\\"step-down unit (sdu)\\\", \\\"acute care/floor\\\", \\\"recovery room\\\", \\\"icu to sdu\\\", \\\"other icu\\\" or \\\"pacu\\\") (lowercase)\\n    unitadmittime TIMESTAMP(0) NOT NULL, -- Time of ICU admission\\n    unitdischargetime TIMESTAMP(0), -- time of discharge from the ICU unit\\n    hospitaldischargetime TIMESTAMP(0), -- Time of hospital discharge\\n    hospitaldischargestatus VARCHAR(10) -- Discharge status (e.g., \\\"alive\\\", \\\"expired\\\" or null)\\n);\\n\\nDROP TABLE IF EXISTS diagnosis;\\nCREATE TABLE diagnosis  -- store diagnoses assigned during ICU stay\\n(\\n    diagnosisid INT NOT NULL PRIMARY KEY, -- Unique diagnosis record ID\\n    patientunitstayid INT NOT NULL, -- ICU stay ID (FK to patient)\\n    diagnosisname VARCHAR(200) NOT NULL, -- Full name of diagnosis (lowercase)\\n    diagnosistime TIMESTAMP(0) NOT NULL, -- Time diagnosis was recorded\\n    icd9code VARCHAR(100), -- ICD-9 code of the diagnosis\\n    FOREIGN KEY(patientunitstayid) REFERENCES patient(patientunitstayid)\\n);\\n\\nDROP TABLE IF EXISTS treatment;\\nCREATE TABLE treatment  -- store treatments administered during ICU stay\\n(\\n    treatmentid INT NOT NULL PRIMARY KEY, -- Unique treatment record ID\\n    patientunitstayid INT NOT NULL, -- ICU stay ID (FK to patient)\\n    treatmentname VARCHAR(200) NOT NULL, -- Name of the treatment administered (lowercase)\\n    treatmenttime TIMESTAMP(0) NOT NULL, -- Time the treatment was given\\n    FOREIGN KEY(patientunitstayid) REFERENCES patient(patientunitstayid)\\n);\\n\\nDROP TABLE IF EXISTS lab;\\nCREATE TABLE lab  -- store lab test results\\n(\\n    labid INT NOT NULL PRIMARY KEY, -- Unique lab test result ID\\n    patientunitstayid INT NOT NULL, -- ICU stay ID (FK to patient)\\n    labname VARCHAR(256) NOT NULL, -- Name of the lab test (lowercase)\\n    labresult NUMERIC(11,4) NOT NULL, -- Result value\\n    labresulttime TIMESTAMP(0) NOT NULL, -- Time when the lab result was recorded\\n    FOREIGN KEY(patientunitstayid) REFERENCES patient(patientunitstayid)\\n);\\n\\nDROP TABLE IF EXISTS medication;\\nCREATE TABLE medication  -- store medication administration records\\n(\\n    medicationid INT NOT NULL PRIMARY KEY, -- Unique medication record ID\\n    patientunitstayid INT NOT NULL, -- ICU stay ID (FK to patient)\\n    drugname VARCHAR(220) NOT NULL, -- Name of the medication (lowercase)\\n    dosage VARCHAR(60) NOT NULL, -- Dosage of the drug\\n    routeadmin VARCHAR(120) NOT NULL, -- Route of administration (e.g., \\\"iv\\\", \\\"po\\\", ...etc) (lowercase)\\n    drugstarttime TIMESTAMP(0), -- Time drug administration started\\n    drugstoptime TIMESTAMP(0), -- Time drug administration stopped\\n    FOREIGN KEY(patientunitstayid) REFERENCES patient(patientunitstayid)\\n);\\n\\nDROP TABLE IF EXISTS cost;\\nCREATE TABLE cost  -- store cost-related data for services provided\\n(\\n    costid INT NOT NULL PRIMARY KEY, -- Unique cost record ID\\n    uniquepid VARCHAR(10) NOT NULL, -- Unique patient ID (can appear in multiple ICU stays)\\n    patienthealthsystemstayid INT NOT NULL, -- Hospital stay ID (FK to patient)\\n    eventtype VARCHAR(20) NOT NULL, -- Type of billable event (e.g., \\\"diagnosis\\\", \\\"lab\\\", \\\"treatment\\\" or \\\"medication\\\") (lowercase)\\n    eventid INT NOT NULL, -- Associated event ID (maps to treatment, lab, etc.)\\n    chargetime TIMESTAMP(0) NOT NULL, -- Time the cost was charged\\n    cost DOUBLE PRECISION NOT NULL, -- Cost value\\n    FOREIGN KEY(patienthealthsystemstayid) REFERENCES patient(patienthealthsystemstayid)\\n);\\n\\nDROP TABLE IF EXISTS allergy;\\nCREATE TABLE allergy  -- store drug-related allergy information\\n(\\n    allergyid INT NOT NULL PRIMARY KEY, -- Unique allergy record ID\\n    patientunitstayid INT NOT NULL, -- ICU stay ID (FK to patient)\\n    drugname VARCHAR(255), -- Drug name associated with allergy (if any) (lowercase)\\n    allergyname VARCHAR(255) NOT NULL, -- Description of the allergy (lowercase)\\n    allergytime TIMESTAMP(0) NOT NULL, -- Time allergy was recorded\\n    FOREIGN KEY(patientunitstayid) REFERENCES patient(patientunitstayid)\\n);\\n\\nDROP TABLE IF EXISTS intakeoutput;\\nCREATE TABLE intakeoutput  -- store intake/output measurements (fluids, urine, etc.)\\n(\\n    intakeoutputid INT NOT NULL PRIMARY KEY, -- Unique intake/output record ID\\n    patientunitstayid INT NOT NULL, -- ICU stay ID (FK to patient)\\n    cellpath VARCHAR(500) NOT NULL, -- Hierarchical label/path (lowercase)   \\n    celllabel VARCHAR(255) NOT NULL, -- Label describing the intake/output (lowercase)\\n    cellvaluenumeric NUMERIC(12,4) NOT NULL, -- Volume or quantity recorded\\n    intakeoutputtime TIMESTAMP(0) NOT NULL, -- Time of measurement\\n    FOREIGN KEY(patientunitstayid) REFERENCES patient(patientunitstayid)\\n);\\n\\nDROP TABLE IF EXISTS microlab;\\nCREATE TABLE microlab  -- store microbiology lab culture results\\n(\\n    microlabid INT NOT NULL PRIMARY KEY, -- Unique microbiology lab result ID\\n    patientunitstayid INT NOT NULL, -- ICU stay ID (FK to patient)\\n    culturesite VARCHAR(255) NOT NULL, -- Site of culture collection (e.g., \\\"blood\\\", \\\"urine\\\") (lowercase)\\n    organism VARCHAR(255) NOT NULL, -- Identified organism (e.g., \\\"escherichia coli\\\", \\\"mixed flora\\\", \\\"pseudomonas aeruginosa\\\", ...etc) (lowercase)\\n    culturetakentime TIMESTAMP(0) NOT NULL, -- Time culture was taken\\n    FOREIGN KEY(patientunitstayid) REFERENCES patient(patientunitstayid)\\n);\\n\\nDROP TABLE IF EXISTS vitalperiodic;\\nCREATE TABLE vitalperiodic  -- store periodic vital signs measured during ICU stay\\n(\\n    vitalperiodicid BIGINT NOT NULL PRIMARY KEY, -- Unique ID for vital sign entry\\n    patientunitstayid INT NOT NULL, -- ICU stay ID (FK to patient)\\n    temperature NUMERIC(11,4), -- Body temperature (Celsius), the normal range is 35.5-38.1\\n    sao2 INT, -- Oxygen saturation (%), the normal range is 95.0-100.0\\n    heartrate INT, -- Heart rate (bpm), the normal range is 60.0-100.0\\n    respiration INT, -- Respiratory rate (breaths per minute), the normal range is 12.0-18.0\\n    systemicsystolic INT, -- Systolic blood pressure (mmHg), the normal range is 90.0-120.0\\n    systemicdiastolic INT, -- Diastolic blood pressure (mmHg), the normal range is 60.0-90.0\\n    systemicmean INT, -- Mean arterial pressure (mmHg), the normal range is 60.0-110.0\\n    observationtime TIMESTAMP(0) NOT NULL, -- Time of observation\\n    FOREIGN KEY(patientunitstayid) REFERENCES patient(patientunitstayid)\\n);\\nInstructions:\\n- Respond only with the SQL query in markdown format. If unsure, reply with \\\"None\\\".\",\n",
      "    \"user\": \"what are the intake methods of clonidine?\",\n",
      "    \"real\": \"select distinct medication.routeadmin from medication where medication.drugname = 'clonidine';\"\n",
      "}\n"
     ]
    }
   ],
   "source": [
    "print(json.dumps(data_cleaned[1], indent=4))"
   ]
  },
  {
   "cell_type": "code",
   "execution_count": 9,
   "id": "6b2f563f",
   "metadata": {},
   "outputs": [],
   "source": [
    "# dump this data into test folder \n",
    "\n",
    "output_dir = \"/home/ubuntu/workspace/vrdc_text2sql/model_evaluation/dataset/test\"\n",
    "\n",
    "json.dump(data_cleaned, open(os.path.join(output_dir, \"test_ehrsql_eicu_data_benchmark.json\"), \"w\"))"
   ]
  },
  {
   "cell_type": "markdown",
   "id": "5e234036",
   "metadata": {},
   "source": [
    "# DDL chunking"
   ]
  },
  {
   "cell_type": "code",
   "execution_count": 2,
   "id": "960b4e4a",
   "metadata": {},
   "outputs": [],
   "source": [
    "import re\n",
    "from pathlib import Path\n",
    "\n",
    "def split_sql_blocks(file_path):\n",
    "    \"\"\"\n",
    "    Read an SQL file and split it into blocks of code.\n",
    "    Each block contains a DROP TABLE and CREATE TABLE statement for one table.\n",
    "    \"\"\"\n",
    "    # Read the file content\n",
    "    with open(file_path, 'r') as f:\n",
    "        content = f.read()\n",
    "    \n",
    "    # Split by \"DROP TABLE IF EXISTS\" statements\n",
    "    # This pattern looks for DROP TABLE at the start of a line\n",
    "    pattern = r'^DROP TABLE IF EXISTS'\n",
    "    \n",
    "    # Find all positions where DROP TABLE statements start\n",
    "    lines = content.split('\\n')\n",
    "    block_starts = []\n",
    "    \n",
    "    for i, line in enumerate(lines):\n",
    "        if re.match(pattern, line.strip()):\n",
    "            block_starts.append(i)\n",
    "    \n",
    "    # Add the end of file as the last position\n",
    "    block_starts.append(len(lines))\n",
    "    \n",
    "    # Extract blocks\n",
    "    blocks = []\n",
    "    for i in range(len(block_starts) - 1):\n",
    "        start_line = block_starts[i]\n",
    "        end_line = block_starts[i + 1]\n",
    "        \n",
    "        # Join lines for this block\n",
    "        block_lines = lines[start_line:end_line]\n",
    "        \n",
    "        # Remove empty lines at the end of the block\n",
    "        while block_lines and block_lines[-1].strip() == '':\n",
    "            block_lines.pop()\n",
    "        \n",
    "        if block_lines:\n",
    "            block = '\\n'.join(block_lines)\n",
    "            blocks.append(block)\n",
    "    \n",
    "    return blocks\n",
    "\n",
    "def extract_table_name(block):\n",
    "    \"\"\"Extract the table name from a SQL block.\"\"\"\n",
    "    match = re.search(r'CREATE TABLE\\s+(\\w+)', block)\n",
    "    if match:\n",
    "        return match.group(1)\n",
    "    return None\n",
    "\n"
   ]
  },
  {
   "cell_type": "code",
   "execution_count": 3,
   "id": "dbcafc33",
   "metadata": {},
   "outputs": [
    {
     "name": "stdout",
     "output_type": "stream",
     "text": [
      "Found 10 SQL blocks:\n",
      "\n",
      "DROP TABLE IF EXISTS vitalperiodic;\n",
      "CREATE TABLE vitalperiodic  -- store periodic vital signs measured during ICU stay\n",
      "(\n",
      "    vitalperiodicid BIGINT NOT NULL PRIMARY KEY, -- Unique ID for vital sign entry\n",
      "    patientunitstayid INT NOT NULL, -- ICU stay ID (FK to patient)\n",
      "    temperature NUMERIC(11,4), -- Body temperature (Celsius)\n",
      "    sao2 INT, -- Oxygen saturation (%)\n",
      "    heartrate INT, -- Heart rate (bpm)\n",
      "    respiration INT, -- Respiratory rate (breaths per minute)\n",
      "    systemicsystolic INT, -- Systolic blood pressure (mmHg)\n",
      "    systemicdiastolic INT, -- Diastolic blood pressure (mmHg)\n",
      "    systemicmean INT, -- Mean arterial pressure (mmHg)\n",
      "    observationtime TIMESTAMP(0) NOT NULL, -- Time of observation\n",
      "    FOREIGN KEY(patientunitstayid) REFERENCES patient(patientunitstayid)\n",
      ");\n"
     ]
    }
   ],
   "source": [
    "# read ddl from file\n",
    "# Path to the SQL file\n",
    "sql_file = \"../model_evaluation/dataset/metadata/eicu_instruct_benchmark2.sql\"\n",
    "\n",
    "# Split the SQL file into blocks\n",
    "blocks = split_sql_blocks(sql_file)\n",
    "\n",
    "# Print information about the blocks\n",
    "print(f\"Found {len(blocks)} SQL blocks:\\n\")\n",
    "\n",
    "print(blocks[9])\n"
   ]
  },
  {
   "cell_type": "code",
   "execution_count": null,
   "id": "2593441c",
   "metadata": {},
   "outputs": [],
   "source": [
    "# calling NV embedding model\n",
    "from openai import OpenAI\n",
    "\n",
    "api_version=\"2025-04-01-preview\"\n",
    "base_url = \"https://integrate.api.nvidia.com/v1\"\n",
    "model = \"nvidia/nv-embedqa-mistral-7b-v2\"\n",
    "\n",
    "# Create a client instance\n",
    "client = OpenAI(\n",
    "    base_url=base_url,\n",
    "    api_key=os.getenv(\"NGC_API_KEY\"),\n",
    ")\n",
    "\n",
    "response = client.embeddings.create(\n",
    "    input=\"Camel is a mammal\",\n",
    "    encoding_format=\"float\",\n",
    "    extra_body={\"input_type\": \"passage\", \"truncate\": \"NONE\"}\n",
    "    model=model\n",
    ")\n",
    "\n",
    "print(response.model_dump_json(indent=2))\n"
   ]
  }
 ],
 "metadata": {
  "kernelspec": {
   "display_name": ".venv",
   "language": "python",
   "name": "python3"
  },
  "language_info": {
   "codemirror_mode": {
    "name": "ipython",
    "version": 3
   },
   "file_extension": ".py",
   "mimetype": "text/x-python",
   "name": "python",
   "nbconvert_exporter": "python",
   "pygments_lexer": "ipython3",
   "version": "3.12.11"
  }
 },
 "nbformat": 4,
 "nbformat_minor": 5
}
