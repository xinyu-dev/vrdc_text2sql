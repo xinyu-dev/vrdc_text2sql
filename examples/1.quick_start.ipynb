{
 "cells": [
  {
   "cell_type": "markdown",
   "id": "bea0399d",
   "metadata": {},
   "source": [
    "# Quick Start"
   ]
  },
  {
   "cell_type": "code",
   "execution_count": 2,
   "id": "84a2bdad",
   "metadata": {},
   "outputs": [],
   "source": [
    "import os\n",
    "from openai import OpenAI\n",
    "from loguru import logger\n",
    "import sys\n",
    "sys.path.append(os.path.abspath(os.path.join('..', 'model_evaluation')))\n"
   ]
  },
  {
   "cell_type": "markdown",
   "id": "83d7f5bf",
   "metadata": {},
   "source": [
    "# Basic Usage"
   ]
  },
  {
   "cell_type": "code",
   "execution_count": 3,
   "id": "fce5ff47",
   "metadata": {},
   "outputs": [],
   "source": [
    "# The model path you used to start the vLLM server\n",
    "MODEL_PATH = \"/home/ubuntu/workspace/mistral-nemo-minitron-8b-instruct-healthcare-text2sql_vV2.8\"\n",
    "\n",
    "# vLLM server details from your running instance\n",
    "IP = \"localhost\"\n",
    "PORT = 8000\n",
    "BASE_URL = f\"http://{IP}:{PORT}/v1\""
   ]
  },
  {
   "cell_type": "code",
   "execution_count": 4,
   "id": "6bccae23",
   "metadata": {},
   "outputs": [],
   "source": [
    "# Initialize the OpenAI client to connect to your local vLLM server\n",
    "client = OpenAI(\n",
    "    api_key=\"not-needed\",  # The API key is not required for local server\n",
    "    base_url=BASE_URL,\n",
    ")"
   ]
  },
  {
   "cell_type": "code",
   "execution_count": 5,
   "id": "63f4cdfe",
   "metadata": {},
   "outputs": [],
   "source": [
    "# Simple DDL (Data Definition Language) for table schema\n",
    "ddl = \"\"\"\\\n",
    "CREATE TABLE patients (\n",
    "    patient_id INT PRIMARY KEY,\n",
    "    name VARCHAR(255),\n",
    "    age INT,\n",
    "    disease VARCHAR(255)\n",
    ");\n",
    "\"\"\""
   ]
  },
  {
   "cell_type": "code",
   "execution_count": 6,
   "id": "7a445d05",
   "metadata": {},
   "outputs": [],
   "source": [
    "# Instruction for the model\n",
    "instruction = \"Generate a SQLite query to answer the following question.\"\n",
    "\n",
    "# The user's question\n",
    "question = \"How many patients are older than 50?\"\n",
    "\n",
    "# Format the prompt using the chat template from mistral-vllm.py\n",
    "prompt_chat_template = [\n",
    "    {\n",
    "        \"role\": \"system\",\n",
    "        \"content\": f\"Based on DDL statements, instructions, and the current date, generate a SQL query in the following sqlite to answer the question:\\n\\nDDL statements:\\n{ddl}\\nInstructions:\\n{instruction}\",\n",
    "    },\n",
    "    {\n",
    "        \"role\": \"user\",\n",
    "        \"content\": f\"{question}\"\n",
    "    }\n",
    "]"
   ]
  },
  {
   "cell_type": "code",
   "execution_count": 7,
   "id": "4bd92401",
   "metadata": {},
   "outputs": [
    {
     "name": "stderr",
     "output_type": "stream",
     "text": [
      "\u001b[32m2025-07-27 03:15:20.901\u001b[0m | \u001b[1mINFO    \u001b[0m | \u001b[36m__main__\u001b[0m:\u001b[36m<module>\u001b[0m:\u001b[36m1\u001b[0m - \u001b[1mSending request to vLLM server...\u001b[0m\n",
      "\u001b[32m2025-07-27 03:15:22.051\u001b[0m | \u001b[32m\u001b[1mSUCCESS \u001b[0m | \u001b[36m__main__\u001b[0m:\u001b[36m<module>\u001b[0m:\u001b[36m14\u001b[0m - \u001b[32m\u001b[1m\n",
      "✅ Server responded successfully!\u001b[0m\n",
      "\u001b[32m2025-07-27 03:15:22.052\u001b[0m | \u001b[1mINFO    \u001b[0m | \u001b[36m__main__\u001b[0m:\u001b[36m<module>\u001b[0m:\u001b[36m15\u001b[0m - \u001b[1m\n",
      "Generated SQL Query:\u001b[0m\n",
      "\u001b[32m2025-07-27 03:15:22.052\u001b[0m | \u001b[1mINFO    \u001b[0m | \u001b[36m__main__\u001b[0m:\u001b[36m<module>\u001b[0m:\u001b[36m16\u001b[0m - \u001b[1m ```sql\n",
      "SELECT COUNT(DISTINCT patient_id) FROM patients WHERE age > 50;\n",
      "```\n",
      "\u001b[0m\n"
     ]
    }
   ],
   "source": [
    "logger.info(\"Sending request to vLLM server...\")\n",
    "\n",
    "try:\n",
    "    response = client.chat.completions.create(\n",
    "        model=MODEL_PATH,\n",
    "        messages=prompt_chat_template,\n",
    "        temperature=0.0,\n",
    "        max_tokens=512,  # Maximum length of the generated SQL query\n",
    "        stop=[\"<extra_id_1>\"] # Optional: stop sequence if your model uses one\n",
    "    )\n",
    "\n",
    "    # --- Print the response ---\n",
    "    generated_sql = response.choices[0].message.content\n",
    "    logger.success(\"\\n✅ Server responded successfully!\")\n",
    "    logger.info(\"\\nGenerated SQL Query:\")\n",
    "    logger.info(generated_sql)\n",
    "\n",
    "except Exception as e:\n",
    "    logger.error(f\"\\n❌ An error occurred: {e}\")"
   ]
  }
 ],
 "metadata": {
  "kernelspec": {
   "display_name": ".venv",
   "language": "python",
   "name": "python3"
  },
  "language_info": {
   "codemirror_mode": {
    "name": "ipython",
    "version": 3
   },
   "file_extension": ".py",
   "mimetype": "text/x-python",
   "name": "python",
   "nbconvert_exporter": "python",
   "pygments_lexer": "ipython3",
   "version": "3.12.11"
  }
 },
 "nbformat": 4,
 "nbformat_minor": 5
}
