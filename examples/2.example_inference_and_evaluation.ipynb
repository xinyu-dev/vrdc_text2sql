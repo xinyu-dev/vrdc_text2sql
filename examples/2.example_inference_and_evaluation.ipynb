{
 "cells": [
  {
   "cell_type": "markdown",
   "id": "bea0399d",
   "metadata": {},
   "source": [
    "# Example of Inference and Evaluation using the eICU.sqlite Database\n",
    "\n",
    " eICU Collaborative Research Database, a multi-center database comprised of deidentified health data for over 200,000 admissions to ICUs across the United States between 2014-2015. The database includes vital sign measurements, care plan documentation, severity of illness measures, diagnosis information, and treatment information.\n",
    "\n",
    "Source of the dataset can be found [here](https://physionet.org/content/eicu-crd-demo/2.0.1/sqlite/)"
   ]
  },
  {
   "cell_type": "code",
   "execution_count": 26,
   "id": "84a2bdad",
   "metadata": {},
   "outputs": [],
   "source": [
    "import os\n",
    "from openai import OpenAI\n",
    "from loguru import logger\n",
    "import sys\n",
    "sys.path.append(os.path.abspath(os.path.join('..', 'model_evaluation')))\n"
   ]
  },
  {
   "cell_type": "markdown",
   "id": "2195dadd",
   "metadata": {},
   "source": [
    "# Load test datsaet"
   ]
  },
  {
   "cell_type": "markdown",
   "id": "7b66ea52",
   "metadata": {},
   "source": [
    "## Load original test dasta"
   ]
  },
  {
   "cell_type": "markdown",
   "id": "1c5c1123",
   "metadata": {},
   "source": [
    "The test data used in our benchmark is stored in `vrdc_text2sql/model_evaluation/dataset/test/test_ehrsql_eicu_data.json` file. It has the following fields: \n",
    "\n",
    "- `index`\n",
    "- `ddl`: DDL of the database\n",
    "- `instructions`: Instruction for the LLM on how to respond\n",
    "- `user`: actual user query\n",
    "- `output`: ground truth SQL statement"
   ]
  },
  {
   "cell_type": "code",
   "execution_count": 27,
   "id": "3e8f8c09",
   "metadata": {},
   "outputs": [
    {
     "name": "stdout",
     "output_type": "stream",
     "text": [
      "index:\n",
      "1\n",
      "\n",
      "ddl:\n",
      "DROP TABLE IF EXISTS patient;\n",
      "CREATE TABLE patient\n",
      "(\n",
      "    uniquepid VARCHAR(10) NOT NULL,\n",
      "    patienthealthsystemstayid INT NOT NULL,\n",
      "    patientunitstayid INT NOT NULL PRIMARY KEY,\n",
      "    gender VARCHAR(25) NOT NULL,\n",
      "    age VARCHAR(10) NOT NULL,\n",
      "    ethnicity VARCHAR(50),\n",
      "    hospitalid INT NOT NULL,\n",
      "    wardid INT NOT NULL,\n",
      "    admissionheight NUMERIC(10,2),\n",
      "    admissionweight NUMERIC(10,2),\n",
      "    dischargeweight NUMERIC(10,2),\n",
      "    hospitaladmittime TIMESTAMP(0) NOT NULL,\n",
      "    hospitaladmitsource VARCHAR(30) NOT NULL,\n",
      "    unitadmittime TIMESTAMP(0) NOT NULL,\n",
      "    unitdischargetime TIMESTAMP(0),\n",
      "    hospitaldischargetime TIMESTAMP(0),\n",
      "    hospitaldischargestatus VARCHAR(10)\n",
      ") ;\n",
      "\n",
      "DROP TABLE IF EXISTS diagnosis;\n",
      "CREATE TABLE diagnosis\n",
      "(\n",
      "    diagnosisid INT NOT NULL PRIMARY KEY,\n",
      "    patientunitstayid INT NOT NULL,\n",
      "    diagnosisname VARCHAR(200) NOT NULL,\n",
      "    diagnosistime TIMESTAMP(0) NOT NULL,\n",
      "    icd9code VARCHAR(100),\n",
      "    FOREIGN KEY(patientunitstayid) REFERENCES patient(patientunitstayid)\n",
      ") ;\n",
      "\n",
      "DROP TABLE IF EXISTS treatment;\n",
      "CREATE TABLE treatment\n",
      "(\n",
      "    treatmentid INT NOT NULL PRIMARY KEY,\n",
      "    patientunitstayid INT NOT NULL,\n",
      "    treatmentname VARCHAR(200) NOT NULL,\n",
      "    treatmenttime TIMESTAMP(0) NOT NULL,\n",
      "    FOREIGN KEY(patientunitstayid) REFERENCES patient(patientunitstayid)\n",
      ") ;\n",
      "\n",
      "DROP TABLE IF EXISTS lab;\n",
      "CREATE TABLE lab\n",
      "(\n",
      "    labid INT NOT NULL PRIMARY KEY,\n",
      "    patientunitstayid INT NOT NULL,\n",
      "    labname VARCHAR(256) NOT NULL,\n",
      "    labresult NUMERIC(11,4) NOT NULL,\n",
      "    labresulttime TIMESTAMP(0) NOT NULL,\n",
      "    FOREIGN KEY(patientunitstayid) REFERENCES patient(patientunitstayid)\n",
      ") ;\n",
      "\n",
      "DROP TABLE IF EXISTS medication;\n",
      "CREATE TABLE medication\n",
      "(\n",
      "    medicationid INT NOT NULL PRIMARY KEY,\n",
      "    patientunitstayid INT NOT NULL,\n",
      "    drugname VARCHAR(220) NOT NULL,\n",
      "    dosage VARCHAR(60) NOT NULL,\n",
      "    routeadmin VARCHAR(120) NOT NULL,\n",
      "    drugstarttime TIMESTAMP(0),\n",
      "    drugstoptime TIMESTAMP(0),\n",
      "    FOREIGN KEY(patientunitstayid) REFERENCES patient(patientunitstayid)\n",
      ") ;\n",
      "\n",
      "DROP TABLE IF EXISTS cost;\n",
      "CREATE TABLE cost\n",
      "(\n",
      "    costid INT NOT NULL PRIMARY KEY,\n",
      "    uniquepid VARCHAR(10) NOT NULL,\n",
      "    patienthealthsystemstayid INT NOT NULL,\n",
      "    eventtype VARCHAR(20) NOT NULL,\n",
      "    eventid INT NOT NULL,\n",
      "    chargetime TIMESTAMP(0) NOT NULL,\n",
      "    cost DOUBLE PRECISION NOT NULL,\n",
      "    FOREIGN KEY(patienthealthsystemstayid) REFERENCES patient(patienthealthsystemstayid)\n",
      ") ;\n",
      "\n",
      "DROP TABLE IF EXISTS allergy;\n",
      "CREATE TABLE allergy\n",
      "(\n",
      "    allergyid INT NOT NULL PRIMARY KEY,\n",
      "    patientunitstayid INT NOT NULL,\n",
      "    drugname VARCHAR(255),\n",
      "    allergyname VARCHAR(255) NOT NULL,\n",
      "    allergytime TIMESTAMP(0) NOT NULL,\n",
      "    FOREIGN KEY(patientunitstayid) REFERENCES patient(patientunitstayid)\n",
      ") ;\n",
      "\n",
      "DROP TABLE IF EXISTS intakeoutput;\n",
      "CREATE TABLE intakeoutput\n",
      "(\n",
      "    intakeoutputid INT NOT NULL PRIMARY KEY,\n",
      "    patientunitstayid INT NOT NULL,\n",
      "    cellpath VARCHAR(500) NOT NULL,\n",
      "    celllabel VARCHAR(255) NOT NULL,\n",
      "    cellvaluenumeric NUMERIC(12,4) NOT NULL,\n",
      "    intakeoutputtime TIMESTAMP(0) NOT NULL,\n",
      "    FOREIGN KEY(patientunitstayid) REFERENCES patient(patientunitstayid)\n",
      ") ;\n",
      "\n",
      "DROP TABLE IF EXISTS microlab;\n",
      "CREATE TABLE microlab\n",
      "(\n",
      "    microlabid INT NOT NULL PRIMARY KEY,\n",
      "    patientunitstayid INT NOT NULL,\n",
      "    culturesite VARCHAR(255) NOT NULL,\n",
      "    organism VARCHAR(255) NOT NULL,\n",
      "    culturetakentime TIMESTAMP(0) NOT NULL,\n",
      "    FOREIGN KEY(patientunitstayid) REFERENCES patient(patientunitstayid)\n",
      ") ;\n",
      "\n",
      "DROP TABLE IF EXISTS vitalperiodic;\n",
      "CREATE TABLE vitalperiodic\n",
      "(\n",
      "    vitalperiodicid BIGINT NOT NULL PRIMARY KEY,\n",
      "    patientunitstayid INT NOT NULL,\n",
      "    temperature NUMERIC(11,4),\n",
      "    sao2 INT,\n",
      "    heartrate INT,\n",
      "    respiration INT,\n",
      "    systemicsystolic INT,\n",
      "    systemicdiastolic INT,\n",
      "    systemicmean INT,\n",
      "    observationtime TIMESTAMP(0) NOT NULL,\n",
      "    FOREIGN KEY(patientunitstayid) REFERENCES patient(patientunitstayid)\n",
      ") ;\n",
      "\n",
      "instructions:\n",
      "- Respond only with the SQL query in markdown format. If unsure, reply with \"None\"\n",
      "\n",
      "user_query:\n",
      "tell me the method of dextrose 5% in water (d5w) iv : 1000 ml bag intake?\n",
      "\n",
      "output:\n",
      "select distinct medication.routeadmin from medication where medication.drugname = 'dextrose 5% in water (d5w) iv : 1000 ml bag'\n",
      "\n"
     ]
    }
   ],
   "source": [
    "import json\n",
    "\n",
    "fields = [\"index\", \"ddl\", \"instructions\", \"user_query\", \"output\"]\n",
    "\n",
    "test_data_fp = \"../model_evaluation/dataset/test/test_ehrsql_eicu_data.json\"\n",
    "test_data = json.load(open(test_data_fp, \"r\"))\n",
    "\n",
    "\n",
    "for data in test_data:\n",
    "    for field in fields:\n",
    "        if field not in data:\n",
    "            print(f\"Field {field} not found in data\")\n",
    "            break\n",
    "        else:\n",
    "            print(f\"{field}:\")\n",
    "            print(f\"{data[field]}\\n\")\n",
    "    else:\n",
    "        break\n",
    "    break"
   ]
  },
  {
   "cell_type": "code",
   "execution_count": 28,
   "id": "1b2176fa",
   "metadata": {},
   "outputs": [
    {
     "name": "stdout",
     "output_type": "stream",
     "text": [
      "Number of data points in the test set: 1792\n"
     ]
    }
   ],
   "source": [
    "# number of data points in the test set\n",
    "\n",
    "print(\"Number of data points in the test set:\", len(test_data))"
   ]
  },
  {
   "cell_type": "markdown",
   "id": "a79fdc45",
   "metadata": {},
   "source": [
    "## Create a mini test set with 10 samples\n",
    "\n",
    "For demo purpose, we will use the first 10 examples "
   ]
  },
  {
   "cell_type": "code",
   "execution_count": 29,
   "id": "008dbb2d",
   "metadata": {},
   "outputs": [],
   "source": [
    "# create a mini test set of 10 data points for demo purposes\n",
    "size = 10\n",
    "mini_testset = test_data[:size]\n",
    "\n",
    "# create a new file for the mini test set\n",
    "mini_testset_fp  = \"../model_evaluation/dataset/test/test_ehrsql_eicu_data_mini.json\"\n",
    "with open(mini_testset_fp, \"w\") as f:\n",
    "    json.dump(mini_testset, f, indent=4)\n"
   ]
  },
  {
   "cell_type": "code",
   "execution_count": 30,
   "id": "3250d66f",
   "metadata": {},
   "outputs": [
    {
     "name": "stdout",
     "output_type": "stream",
     "text": [
      "{\n",
      "    \"index\": 1,\n",
      "    \"ddl\": \"DROP TABLE IF EXISTS patient;\\nCREATE TABLE patient\\n(\\n    uniquepid VARCHAR(10) NOT NULL,\\n    patienthealthsystemstayid INT NOT NULL,\\n    patientunitstayid INT NOT NULL PRIMARY KEY,\\n    gender VARCHAR(25) NOT NULL,\\n    age VARCHAR(10) NOT NULL,\\n    ethnicity VARCHAR(50),\\n    hospitalid INT NOT NULL,\\n    wardid INT NOT NULL,\\n    admissionheight NUMERIC(10,2),\\n    admissionweight NUMERIC(10,2),\\n    dischargeweight NUMERIC(10,2),\\n    hospitaladmittime TIMESTAMP(0) NOT NULL,\\n    hospitaladmitsource VARCHAR(30) NOT NULL,\\n    unitadmittime TIMESTAMP(0) NOT NULL,\\n    unitdischargetime TIMESTAMP(0),\\n    hospitaldischargetime TIMESTAMP(0),\\n    hospitaldischargestatus VARCHAR(10)\\n) ;\\n\\nDROP TABLE IF EXISTS diagnosis;\\nCREATE TABLE diagnosis\\n(\\n    diagnosisid INT NOT NULL PRIMARY KEY,\\n    patientunitstayid INT NOT NULL,\\n    diagnosisname VARCHAR(200) NOT NULL,\\n    diagnosistime TIMESTAMP(0) NOT NULL,\\n    icd9code VARCHAR(100),\\n    FOREIGN KEY(patientunitstayid) REFERENCES patient(patientunitstayid)\\n) ;\\n\\nDROP TABLE IF EXISTS treatment;\\nCREATE TABLE treatment\\n(\\n    treatmentid INT NOT NULL PRIMARY KEY,\\n    patientunitstayid INT NOT NULL,\\n    treatmentname VARCHAR(200) NOT NULL,\\n    treatmenttime TIMESTAMP(0) NOT NULL,\\n    FOREIGN KEY(patientunitstayid) REFERENCES patient(patientunitstayid)\\n) ;\\n\\nDROP TABLE IF EXISTS lab;\\nCREATE TABLE lab\\n(\\n    labid INT NOT NULL PRIMARY KEY,\\n    patientunitstayid INT NOT NULL,\\n    labname VARCHAR(256) NOT NULL,\\n    labresult NUMERIC(11,4) NOT NULL,\\n    labresulttime TIMESTAMP(0) NOT NULL,\\n    FOREIGN KEY(patientunitstayid) REFERENCES patient(patientunitstayid)\\n) ;\\n\\nDROP TABLE IF EXISTS medication;\\nCREATE TABLE medication\\n(\\n    medicationid INT NOT NULL PRIMARY KEY,\\n    patientunitstayid INT NOT NULL,\\n    drugname VARCHAR(220) NOT NULL,\\n    dosage VARCHAR(60) NOT NULL,\\n    routeadmin VARCHAR(120) NOT NULL,\\n    drugstarttime TIMESTAMP(0),\\n    drugstoptime TIMESTAMP(0),\\n    FOREIGN KEY(patientunitstayid) REFERENCES patient(patientunitstayid)\\n) ;\\n\\nDROP TABLE IF EXISTS cost;\\nCREATE TABLE cost\\n(\\n    costid INT NOT NULL PRIMARY KEY,\\n    uniquepid VARCHAR(10) NOT NULL,\\n    patienthealthsystemstayid INT NOT NULL,\\n    eventtype VARCHAR(20) NOT NULL,\\n    eventid INT NOT NULL,\\n    chargetime TIMESTAMP(0) NOT NULL,\\n    cost DOUBLE PRECISION NOT NULL,\\n    FOREIGN KEY(patienthealthsystemstayid) REFERENCES patient(patienthealthsystemstayid)\\n) ;\\n\\nDROP TABLE IF EXISTS allergy;\\nCREATE TABLE allergy\\n(\\n    allergyid INT NOT NULL PRIMARY KEY,\\n    patientunitstayid INT NOT NULL,\\n    drugname VARCHAR(255),\\n    allergyname VARCHAR(255) NOT NULL,\\n    allergytime TIMESTAMP(0) NOT NULL,\\n    FOREIGN KEY(patientunitstayid) REFERENCES patient(patientunitstayid)\\n) ;\\n\\nDROP TABLE IF EXISTS intakeoutput;\\nCREATE TABLE intakeoutput\\n(\\n    intakeoutputid INT NOT NULL PRIMARY KEY,\\n    patientunitstayid INT NOT NULL,\\n    cellpath VARCHAR(500) NOT NULL,\\n    celllabel VARCHAR(255) NOT NULL,\\n    cellvaluenumeric NUMERIC(12,4) NOT NULL,\\n    intakeoutputtime TIMESTAMP(0) NOT NULL,\\n    FOREIGN KEY(patientunitstayid) REFERENCES patient(patientunitstayid)\\n) ;\\n\\nDROP TABLE IF EXISTS microlab;\\nCREATE TABLE microlab\\n(\\n    microlabid INT NOT NULL PRIMARY KEY,\\n    patientunitstayid INT NOT NULL,\\n    culturesite VARCHAR(255) NOT NULL,\\n    organism VARCHAR(255) NOT NULL,\\n    culturetakentime TIMESTAMP(0) NOT NULL,\\n    FOREIGN KEY(patientunitstayid) REFERENCES patient(patientunitstayid)\\n) ;\\n\\nDROP TABLE IF EXISTS vitalperiodic;\\nCREATE TABLE vitalperiodic\\n(\\n    vitalperiodicid BIGINT NOT NULL PRIMARY KEY,\\n    patientunitstayid INT NOT NULL,\\n    temperature NUMERIC(11,4),\\n    sao2 INT,\\n    heartrate INT,\\n    respiration INT,\\n    systemicsystolic INT,\\n    systemicdiastolic INT,\\n    systemicmean INT,\\n    observationtime TIMESTAMP(0) NOT NULL,\\n    FOREIGN KEY(patientunitstayid) REFERENCES patient(patientunitstayid)\\n) ;\",\n",
      "    \"instructions\": \"- Respond only with the SQL query in markdown format. If unsure, reply with \\\"None\\\"\",\n",
      "    \"user_query\": \"tell me the method of dextrose 5% in water (d5w) iv : 1000 ml bag intake?\",\n",
      "    \"output\": \"select distinct medication.routeadmin from medication where medication.drugname = 'dextrose 5% in water (d5w) iv : 1000 ml bag'\"\n",
      "}\n"
     ]
    }
   ],
   "source": [
    "# load the mini test set\n",
    "mini_testset_fp  = \"../model_evaluation/dataset/test/test_ehrsql_eicu_data_mini.json\"\n",
    "mini_testset = json.load(open(mini_testset_fp, \"r\"))\n",
    "\n",
    "# print the first record\n",
    "print(json.dumps(mini_testset[0], indent=4))"
   ]
  },
  {
   "cell_type": "markdown",
   "id": "41d4c0be",
   "metadata": {},
   "source": [
    "# Generate SQL queries"
   ]
  },
  {
   "cell_type": "code",
   "execution_count": 31,
   "id": "6c653ff3",
   "metadata": {},
   "outputs": [],
   "source": [
    "import asyncio\n",
    "from openai import AsyncOpenAI\n",
    "import json\n",
    "from loguru import logger\n",
    "\n",
    "# Re-using vLLM server details from previous cells\n",
    "IP = \"localhost\"\n",
    "PORT = 8000\n",
    "BASE_URL = f\"http://{IP}:{PORT}/v1\"\n",
    "MODEL_PATH = \"/home/ubuntu/workspace/mistral-nemo-minitron-8b-instruct-healthcare-text2sql_vV2.8\"\n",
    "\n",
    "# Initialize the AsyncOpenAI client\n",
    "async_client = AsyncOpenAI(\n",
    "    api_key=\"not-needed\",\n",
    "    base_url=BASE_URL,\n",
    ")"
   ]
  },
  {
   "cell_type": "code",
   "execution_count": 32,
   "id": "12d9dbce",
   "metadata": {},
   "outputs": [],
   "source": [
    "from utils import postprocess_sql_query_from_markdown\n",
    "\n",
    "async def get_prediction(record: dict) -> str:\n",
    "    \"\"\"\n",
    "    Generates a SQL query for a given record asynchronously.\n",
    "    \"\"\"\n",
    "    index = record['index']\n",
    "    ddl = record['ddl']\n",
    "    instruction = record['instructions']\n",
    "    question = record['user_query']\n",
    "    output = record['output'] # ground truth SQL statement\n",
    "\n",
    "    prompt_chat_template = [\n",
    "        {\n",
    "            \"role\": \"system\",\n",
    "            \"content\": f\"Based on DDL statements, instructions, generate a SQL query to answer the user's question.\\n\\nDDL statements:\\n{ddl}\\nInstructions:\\n{instruction}\",\n",
    "        },\n",
    "        {\n",
    "            \"role\": \"user\",\n",
    "            \"content\": f\"{question}\"\n",
    "        }\n",
    "    ]\n",
    "\n",
    "    try:\n",
    "        response = await async_client.chat.completions.create(\n",
    "            model=MODEL_PATH,\n",
    "            messages=prompt_chat_template,\n",
    "            temperature=0.0,\n",
    "            max_tokens=512,\n",
    "            stop=[\"<extra_id_1>\"]\n",
    "        )\n",
    "        generated_sql = response.choices[0].message.content\n",
    "        prediction = postprocess_sql_query_from_markdown(generated_sql)\n",
    "        logger.info(f\"Generated SQL for index {index}: {prediction}\") \n",
    "\n",
    "        return {\n",
    "            \"index\": index,\n",
    "            \"input\": question, # user query\n",
    "            \"predict\": prediction,  # model predicted SQL\n",
    "            \"real\": output # ground truth SQL\n",
    "        }\n",
    "        \n",
    "    except Exception as e:\n",
    "        logger.error(f\"An error occurred for index {record.get('index', 'N/A')}: {e}\")\n",
    "        return f\"Error: {e}\""
   ]
  },
  {
   "cell_type": "code",
   "execution_count": 33,
   "id": "e0448570",
   "metadata": {},
   "outputs": [],
   "source": [
    "async def run_predictions_async(test_fp: str, output_fp: str):\n",
    "    \"\"\"\n",
    "    Loads a test set and runs predictions asynchronously.\n",
    "    \"\"\"\n",
    "    # Path to the mini test set\n",
    "    with open(test_fp, \"r\") as f:\n",
    "        test_data = json.load(f)\n",
    "\n",
    "    tasks = [get_prediction(record) for record in test_data]\n",
    "    \n",
    "    logger.info(f\"Sending {len(tasks)} requests to the vLLM server...\")\n",
    "    predictions = await asyncio.gather(*tasks)\n",
    "    logger.success(\"All predictions done.\")\n",
    "\n",
    "    # add predictions to the test data by looking up the index\n",
    "    results = []\n",
    "    for pred in predictions:\n",
    "        # create a dictionary with the index and prediction\n",
    "        results.append({\n",
    "            \"index\": pred['index'],\n",
    "            \"input\": pred['input'],\n",
    "            \"predict\": pred['predict'], \n",
    "            \"real\": pred['real']\n",
    "        })\n",
    "\n",
    "    # handle if the output file does not exist\n",
    "    with open(output_fp, \"w\") as f:\n",
    "        json.dump(results, f, indent=2)\n",
    "\n",
    "    logger.success(f\"Predictions saved to {output_fp}\")"
   ]
  },
  {
   "cell_type": "code",
   "execution_count": 34,
   "id": "1d8411b3",
   "metadata": {},
   "outputs": [
    {
     "name": "stderr",
     "output_type": "stream",
     "text": [
      "\u001b[32m2025-07-27 03:49:06.113\u001b[0m | \u001b[1mINFO    \u001b[0m | \u001b[36m__main__\u001b[0m:\u001b[36mrun_predictions_async\u001b[0m:\u001b[36m11\u001b[0m - \u001b[1mSending 10 requests to the vLLM server...\u001b[0m\n",
      "\u001b[32m2025-07-27 03:49:06.877\u001b[0m | \u001b[1mINFO    \u001b[0m | \u001b[36m__main__\u001b[0m:\u001b[36mget_prediction\u001b[0m:\u001b[36m34\u001b[0m - \u001b[1mGenerated SQL for index 2: select distinct medication.routeadmin from medication where medication.drugname = 'clonidine';\u001b[0m\n",
      "\u001b[32m2025-07-27 03:49:07.132\u001b[0m | \u001b[1mINFO    \u001b[0m | \u001b[36m__main__\u001b[0m:\u001b[36mget_prediction\u001b[0m:\u001b[36m34\u001b[0m - \u001b[1mGenerated SQL for index 3: select distinct medication.routeadmin from medication where medication.drugname = 'morphine 2 mg/1 ml 1 ml syr';\u001b[0m\n",
      "\u001b[32m2025-07-27 03:49:07.260\u001b[0m | \u001b[1mINFO    \u001b[0m | \u001b[36m__main__\u001b[0m:\u001b[36mget_prediction\u001b[0m:\u001b[36m34\u001b[0m - \u001b[1mGenerated SQL for index 4: select distinct medication.routeadmin from medication where medication.drugname = 'propofol 1000 mg/100 ml (pmx)';\u001b[0m\n",
      "\u001b[32m2025-07-27 03:49:07.566\u001b[0m | \u001b[1mINFO    \u001b[0m | \u001b[36m__main__\u001b[0m:\u001b[36mget_prediction\u001b[0m:\u001b[36m34\u001b[0m - \u001b[1mGenerated SQL for index 7: select distinct cost.cost from cost where cost.eventtype = 'Procedure' and cost.eventid in ( select treatment.treatmentid from treatment where treatment.treatmentname = 'internal fixation' ) order by cost.cost;\u001b[0m\n",
      "\u001b[32m2025-07-27 03:49:07.947\u001b[0m | \u001b[1mINFO    \u001b[0m | \u001b[36m__main__\u001b[0m:\u001b[36mget_prediction\u001b[0m:\u001b[36m34\u001b[0m - \u001b[1mGenerated SQL for index 6: select distinct t1.routeadmin from medication t1 where t1.drugname = 'vancomycin inj 1,000 mg vial';\u001b[0m\n",
      "\u001b[32m2025-07-27 03:49:08.050\u001b[0m | \u001b[1mINFO    \u001b[0m | \u001b[36m__main__\u001b[0m:\u001b[36mget_prediction\u001b[0m:\u001b[36m34\u001b[0m - \u001b[1mGenerated SQL for index 5: select distinct medication.routeadmin from medication where medication.drugname = 'zolpidem tartrate 5 mg po tabs';\u001b[0m\n",
      "\u001b[32m2025-07-27 03:49:09.195\u001b[0m | \u001b[1mINFO    \u001b[0m | \u001b[36m__main__\u001b[0m:\u001b[36mget_prediction\u001b[0m:\u001b[36m34\u001b[0m - \u001b[1mGenerated SQL for index 1: select distinct treatment.treatmentname from treatment where treatment.treatmentname = 'Dextrose 5% in Water (D5W) IV : 1000 ml bag';\u001b[0m\n",
      "\u001b[32m2025-07-27 03:49:09.474\u001b[0m | \u001b[1mINFO    \u001b[0m | \u001b[36m__main__\u001b[0m:\u001b[36mget_prediction\u001b[0m:\u001b[36m34\u001b[0m - \u001b[1mGenerated SQL for index 9: select distinct cost.cost from cost where cost.eventtype = 'Procedure' and cost.eventid = ( select distinct treatment.treatmentid from treatment where treatment.treatmentname = 'thoracoscopic procedure - wedge resection' );\u001b[0m\n",
      "\u001b[32m2025-07-27 03:49:09.524\u001b[0m | \u001b[1mINFO    \u001b[0m | \u001b[36m__main__\u001b[0m:\u001b[36mget_prediction\u001b[0m:\u001b[36m34\u001b[0m - \u001b[1mGenerated SQL for index 10: select distinct cost.cost from cost where cost.eventtype = 'Procedure' and cost.uniquepid in ( select patient.uniquepid from patient where patient.patienthealthsystemstayid in ( select diagnosis.patientunitstayid from diagnosis where diagnosis.diagnosisname = 'insertion of venous catheter for hemodialysis - percutaneous catheter' ) ) and cost.eventtype = 'Procedure';\u001b[0m\n",
      "\u001b[32m2025-07-27 03:49:09.644\u001b[0m | \u001b[1mINFO    \u001b[0m | \u001b[36m__main__\u001b[0m:\u001b[36mget_prediction\u001b[0m:\u001b[36m34\u001b[0m - \u001b[1mGenerated SQL for index 8: select distinct cost.cost from cost where cost.eventtype = 'Procedure' and cost.uniquepid in ( select patient.uniquepid from patient where patient.patientunitstayid in ( select diagnosis.patientunitstayid from diagnosis where diagnosis.diagnosisname = 'angiography - pulmonary angiogram' ) ) order by cost.cost asc;\u001b[0m\n",
      "\u001b[32m2025-07-27 03:49:09.644\u001b[0m | \u001b[32m\u001b[1mSUCCESS \u001b[0m | \u001b[36m__main__\u001b[0m:\u001b[36mrun_predictions_async\u001b[0m:\u001b[36m13\u001b[0m - \u001b[32m\u001b[1mAll predictions done.\u001b[0m\n",
      "\u001b[32m2025-07-27 03:49:09.645\u001b[0m | \u001b[32m\u001b[1mSUCCESS \u001b[0m | \u001b[36m__main__\u001b[0m:\u001b[36mrun_predictions_async\u001b[0m:\u001b[36m30\u001b[0m - \u001b[32m\u001b[1mPredictions saved to ../model_predictions/eICU_mini/predictions.json\u001b[0m\n",
      "\u001b[32m2025-07-27 03:49:09.645\u001b[0m | \u001b[1mINFO    \u001b[0m | \u001b[36m__main__\u001b[0m:\u001b[36m<module>\u001b[0m:\u001b[36m18\u001b[0m - \u001b[1mTime taken: 3.53 seconds\u001b[0m\n"
     ]
    }
   ],
   "source": [
    "from utils import preprare_directory\n",
    "from time import time\n",
    "\n",
    "# create output directory. set exist_ok=False to delete the old results and re-create a fresh folder\n",
    "output_dir = \"../model_predictions/eICU_mini\"\n",
    "preprare_directory(output_dir, exist_ok=False)\n",
    "\n",
    "# input test set directory\n",
    "test_dir = \"../model_evaluation/dataset/test\"\n",
    "\n",
    "start_time = time()\n",
    "# run predictions\n",
    "await run_predictions_async(\n",
    "    test_fp = os.path.join(test_dir, \"test_ehrsql_eicu_data_mini.json\"),\n",
    "    output_fp = os.path.join(output_dir, \"predictions.json\")\n",
    ")\n",
    "end_time = time()\n",
    "logger.info(f\"Time taken: {end_time - start_time:.2f} seconds\")"
   ]
  },
  {
   "cell_type": "code",
   "execution_count": 35,
   "id": "dc19baac",
   "metadata": {},
   "outputs": [
    {
     "name": "stdout",
     "output_type": "stream",
     "text": [
      "{\n",
      "    \"index\": 1,\n",
      "    \"input\": \"tell me the method of dextrose 5% in water (d5w) iv : 1000 ml bag intake?\",\n",
      "    \"predict\": \"select distinct treatment.treatmentname from treatment where treatment.treatmentname = 'Dextrose 5% in Water (D5W) IV : 1000 ml bag';\",\n",
      "    \"real\": \"select distinct medication.routeadmin from medication where medication.drugname = 'dextrose 5% in water (d5w) iv : 1000 ml bag'\"\n",
      "}\n"
     ]
    }
   ],
   "source": [
    "# the prediction result is stored in a JSON file. The content looks like this\n",
    "\n",
    "results = json.load(open(os.path.join(output_dir, \"predictions.json\"), \"r\"))\n",
    "\n",
    "# pretty print the JSON results\n",
    "for result in results:\n",
    "    print(json.dumps(result, indent=4))\n",
    "    break"
   ]
  },
  {
   "cell_type": "markdown",
   "id": "3e6ebbfb",
   "metadata": {},
   "source": [
    "where: \n",
    "- `index`: same `index` as in the raw data\n",
    "- `input`: user question\n",
    "- `predict`: text2SQL model's predicted SQL statement\n",
    "- `real`: ground turth SQL statement"
   ]
  },
  {
   "cell_type": "markdown",
   "id": "083554c8",
   "metadata": {},
   "source": [
    "# Evaluate SQL query\n",
    "\n",
    "To evaluate the SQL query, we will execute BOTH the ground truth SQL statement and the predicted SQL statement against the SQL database, and compare their outcomes"
   ]
  },
  {
   "cell_type": "markdown",
   "id": "6c0fbe66",
   "metadata": {},
   "source": [
    "### What correct means"
   ]
  },
  {
   "cell_type": "markdown",
   "id": "be6b3d10",
   "metadata": {},
   "source": [
    "\n",
    "\n",
    "Thes script considers a prediction to be correct (`accuracy=1`) if: \n",
    "1. execution results (sorted first 100 rows) are the same between ground truth SQL statement execution and predicted SQL statement execution, OR\n",
    "2. both ground truth and predicted SQL statement execution failed, OR\n",
    "3. ground truth SQL execution failed, and predcted SQL statement execution returns empty. \n",
    "\n",
    "```python\n",
    "sample_scores['accuracy'] = 1 if real_result == pred_result or both_failed or real_failed_pred_empty else 0\n",
    "```\n"
   ]
  },
  {
   "cell_type": "markdown",
   "id": "68db5aad",
   "metadata": {},
   "source": [
    "### Metrics"
   ]
  },
  {
   "cell_type": "markdown",
   "id": "060d1077",
   "metadata": {},
   "source": [
    "\n",
    "The metrics are: \n",
    "\n",
    "```python\n",
    "    out_eval = OrderedDict([\n",
    "        ('precision_ans', round(100.0 * precision_ans, args.ndigits)),\n",
    "        ('recall_ans', round(100.0 * recall_ans, args.ndigits)),\n",
    "        ('f1_ans', round(100.0 * f1_ans, args.ndigits)),\n",
    "        ('precision_exec', round(100.0 * precision_exec, args.ndigits)),\n",
    "        ('recall_exec', round(100.0 * recall_exec, args.ndigits)),\n",
    "        ('f1_exec', round(100.0 * f1_exec, args.ndigits)),\n",
    "        ('acc', round(100.0 * acc, args.ndigits)),\n",
    "    ])\n",
    "```\n",
    "\n",
    "They can be grouped into two main categories: **Answerability Metrics** (`_ans`) and **Execution Metrics** (`_exec`), plus overall accuracy.\n",
    "\n",
    "#### 1. Answerability Metrics (`_ans`)\n",
    "\n",
    "These metrics **ignore the correctness of the SQL query**. They only care about whether the model correctly identified if a question was *answerable* or *unanswerable*. **A question is considered answerable if its ground-truth query can be executed without error.**\n",
    "\n",
    "- `precision_ans`: **\"Of all the questions the model *claimed* were answerable, what percentage actually were?\"**\n",
    "    - This measures how much you can trust the model when it generates a query. A high score means it doesn't often generate queries for questions that are impossible to answer.\n",
    "- `recall_ans`: **\"Of all the questions that *truly were* answerable, what percentage did the model *attempt* to answer?\"**\n",
    "    - This measures how comprehensive the model is. A high score means the model doesn't frequently give up on questions it should have been able to answer \n",
    "- `f1_ans`: This is the **F1-score for answerability**. \n",
    "    - It's the harmonic mean of `precision_ans` and `recall_ans`, providing a single score that balances the two. It gives a good overall sense of how well the model distinguishes answerable from unanswerable questions.\n",
    "\n",
    "#### 2. Execution Metrics (`_exec`)\n",
    "\n",
    "These are the most important metrics. They evaluate the model's performance on the questions that are **supposed to be answerable**. They check if the *result* of the predicted SQL query matches the *result* of the ground-truth SQL query. \n",
    "\n",
    "- `precision_exec`: **\"Of all the answerable questions the model *attempted* to answer, what percentage of its SQL queries were correct?\"**\n",
    "    - This is a direct measure of the model's correctness. When the model generates a query, how often is that query right?\n",
    "- `recall_exec`: **\"Of all the answerable questions in the dataset, what percentage did the model answer correctly?\"**\n",
    "    - This measures how much of the total task the model accomplished successfully. It penalizes the model for both failing to answer a question it should have and for getting the answer wrong.\n",
    "- `f1_exec`: This is the **F1-score for execution**. \n",
    "    - It's the harmonic mean of `precision_exec` and `recall_exec`. This is often considered the primary metric for evaluating the overall quality of the text-to-SQL model.\n",
    "\n",
    "#### 3. Overall Accuracy (`acc`)\n",
    "\n",
    "`acc`: **\"What is the overall percentage of questions that the model got right?\"**\n",
    "- This is the simplest metric. It considers a prediction correct if the result matches the ground-truth result, or if both correctly failed (i.e., for unanswerable questions). It provides a good, high-level summary of performance across all questions, both answerable and unanswerable."
   ]
  },
  {
   "cell_type": "markdown",
   "id": "6b74c854",
   "metadata": {},
   "source": [
    "### Run evaluation"
   ]
  },
  {
   "cell_type": "markdown",
   "id": "ed38a3de",
   "metadata": {},
   "source": [
    "For evaluation of the eICU SQLite database, we have a script:  `model_evaluation/ehrsql_eval.py`\n",
    "\n",
    "Arguments: \n",
    "\n",
    "- `--pred_file`: Path to model predictions (JSON/JSONL)\n",
    "- `--db_path`: Path to SQLite database file\n",
    "- `--num_workers`: Parallel workers (default: -1 for all CPUs)\n",
    "- `--timeout`: Query execution timeout (seconds)\n",
    "- `--out_file`: Output directory for results and metrics\n",
    "- `--ndigits`: Number of digits to round scores (default: 2)"
   ]
  },
  {
   "cell_type": "code",
   "execution_count": 41,
   "id": "ab881e63",
   "metadata": {},
   "outputs": [],
   "source": [
    "import os\n",
    "from utils import preprare_directory\n",
    "\n",
    "# create output directory for evaluation results, relative to the path of model_evaluation directory\n",
    "# note that the evaluate results need a clean new folder, because it will overwrite any existing files in the folder\n",
    "pred_directory = \"../model_predictions/eICU_mini\"\n",
    "eval_directory = os.path.join(pred_directory, \"evaluation\")\n",
    "preprare_directory(eval_directory, exist_ok=False)\n",
    "\n",
    "# the predicted file from previous step\n",
    "pred_file = os.path.join(pred_directory, \"predictions.json\")\n",
    "\n",
    "# path to the eICU database\n",
    "db_path = \"../model_evaluation/databases/eicu.sqlite\"\n"
   ]
  },
  {
   "cell_type": "code",
   "execution_count": 42,
   "id": "6701bbd0",
   "metadata": {},
   "outputs": [],
   "source": [
    "# run evaluation\n",
    "!python ../model_evaluation/ehrsql_eval.py \\\n",
    "    --pred_file {pred_file} \\\n",
    "    --db_path {db_path} \\\n",
    "    --num_workers -1 \\\n",
    "    --timeout 60 \\\n",
    "    --out_file {eval_directory} \\\n",
    "    --ndigits 2"
   ]
  },
  {
   "cell_type": "markdown",
   "id": "2ef7591c",
   "metadata": {},
   "source": [
    "## Interpret results"
   ]
  },
  {
   "cell_type": "markdown",
   "id": "3f9ffc53",
   "metadata": {},
   "source": [
    "The `predictions_evaluation_results.jsonl` contains line by line execution results: "
   ]
  },
  {
   "cell_type": "code",
   "execution_count": 49,
   "id": "218f7957",
   "metadata": {},
   "outputs": [
    {
     "name": "stdout",
     "output_type": "stream",
     "text": [
      "{\n",
      "    \"index\": 1,\n",
      "    \"input\": \"tell me the method of dextrose 5% in water (d5w) iv\",\n",
      "    \"predict\": \"select distinct treatment.treatmentname from treatment where treatment.treatmentname = 'Dextrose 5% in Water (D5W) IV : 1000 ml bag';\",\n",
      "    \"real\": \"select distinct medication.routeadmin from medication where medication.drugname = 'dextrose 5% in water (d5w) iv : 1000 ml bag'\",\n",
      "    \"pred\": \"select distinct treatment.treatmentname from treatment where treatment.treatmentname = 'dextrose 5% in water (d5w) iv : 1000 ml bag';\",\n",
      "    \"real_result\": \"[\\\"('iv',)\\\"]\",\n",
      "    \"pred_result\": \"[]\",\n",
      "    \"sample_scores\": {\n",
      "        \"precision_ans\": 1,\n",
      "        \"precision_exec\": 0,\n",
      "        \"recall_ans\": 1,\n",
      "        \"recall_exec\": 0,\n",
      "        \"accuracy\": 0\n",
      "    }\n",
      "}\n"
     ]
    }
   ],
   "source": [
    "fp = \"../model_predictions/eICU_mini/evaluation/predictions_evaluation_results.jsonl\"\n",
    "\n",
    "# load jsonl file\n",
    "with open(fp, \"r\") as f:\n",
    "    for line in f:\n",
    "        result = json.loads(line)\n",
    "        print(json.dumps(result, indent=4))\n",
    "        break"
   ]
  },
  {
   "cell_type": "markdown",
   "id": "6eb0de4a",
   "metadata": {},
   "source": [
    "The `../model_predictions/eICU_mini/evaluation/predictions_metrics.json` contains the overal execution result"
   ]
  },
  {
   "cell_type": "code",
   "execution_count": 50,
   "id": "ce87fd40",
   "metadata": {},
   "outputs": [
    {
     "name": "stdout",
     "output_type": "stream",
     "text": [
      "{\n",
      "    \"precision_ans\": 100.0,\n",
      "    \"recall_ans\": 100.0,\n",
      "    \"f1_ans\": 100.0,\n",
      "    \"precision_exec\": 40.0,\n",
      "    \"recall_exec\": 40.0,\n",
      "    \"f1_exec\": 40.0,\n",
      "    \"acc\": 40.0\n",
      "}\n"
     ]
    }
   ],
   "source": [
    "fp = \"../model_predictions/eICU_mini/evaluation/predictions_metrics.json\"\n",
    "\n",
    "with open(fp, \"r\") as f:\n",
    "    metrics = json.load(f)\n",
    "\n",
    "print(json.dumps(metrics, indent=4))"
   ]
  }
 ],
 "metadata": {
  "kernelspec": {
   "display_name": ".venv",
   "language": "python",
   "name": "python3"
  },
  "language_info": {
   "codemirror_mode": {
    "name": "ipython",
    "version": 3
   },
   "file_extension": ".py",
   "mimetype": "text/x-python",
   "name": "python",
   "nbconvert_exporter": "python",
   "pygments_lexer": "ipython3",
   "version": "3.12.11"
  }
 },
 "nbformat": 4,
 "nbformat_minor": 5
}
